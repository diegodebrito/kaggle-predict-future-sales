{
 "cells": [
  {
   "cell_type": "markdown",
   "metadata": {},
   "source": [
    "Code for Kaggle competition: Predict Future Sales.\n",
    "\n",
    "References:\n",
    "- https://www.coursera.org/learn/competitive-data-science/home/welcome\n",
    "-  https://www.kaggle.com/dlarionov/feature-engineering-xgboost"
   ]
  },
  {
   "cell_type": "markdown",
   "metadata": {},
   "source": [
    "# Importing Packages:"
   ]
  },
  {
   "cell_type": "code",
   "execution_count": 138,
   "metadata": {
    "ExecuteTime": {
     "end_time": "2019-12-13T05:18:32.287334Z",
     "start_time": "2019-12-13T05:18:32.153691Z"
    }
   },
   "outputs": [],
   "source": [
    "\n",
    "import pandas as pd\n",
    "import numpy as np\n",
    "import os\n",
    "import gc\n",
    "import matplotlib.pyplot as plt\n",
    "import seaborn as sns\n",
    "import joblib\n",
    "%matplotlib inline \n",
    "\n",
    "from sklearn.preprocessing import LabelEncoder, RobustScaler\n",
    "from sklearn.linear_model import LinearRegression\n",
    "from sklearn.ensemble import RandomForestRegressor\n",
    "from sklearn.pipeline import Pipeline, make_pipeline\n",
    "from sklearn.model_selection import KFold\n",
    "from sklearn.metrics import r2_score\n",
    "from sklearn.metrics import mean_squared_error\n",
    "\n",
    "import lightgbm\n",
    "from xgboost import XGBRegressor\n"
   ]
  },
  {
   "cell_type": "markdown",
   "metadata": {},
   "source": [
    "# Loading Data"
   ]
  },
  {
   "cell_type": "code",
   "execution_count": 47,
   "metadata": {
    "ExecuteTime": {
     "end_time": "2019-12-13T04:36:02.932058Z",
     "start_time": "2019-12-13T04:36:02.923077Z"
    }
   },
   "outputs": [],
   "source": [
    "DATA_FOLDER = './data/predict-future-sales/'"
   ]
  },
  {
   "cell_type": "code",
   "execution_count": 48,
   "metadata": {
    "ExecuteTime": {
     "end_time": "2019-12-13T04:36:04.828635Z",
     "start_time": "2019-12-13T04:36:02.934045Z"
    }
   },
   "outputs": [],
   "source": [
    "sales = pd.read_csv(os.path.join(DATA_FOLDER, 'sales_train.csv.gz'))\n",
    "items = pd.read_csv(os.path.join(DATA_FOLDER, 'items.csv'))\n",
    "item_categories = pd.read_csv(os.path.join(DATA_FOLDER, 'item_categories.csv'))\n",
    "shops = pd.read_csv(os.path.join(DATA_FOLDER, 'shops.csv'))\n",
    "test = pd.read_csv(os.path.join(DATA_FOLDER, 'test.csv.gz'))\n",
    "sample = pd.read_csv(os.path.join(DATA_FOLDER, 'sample_submission.csv.gz'))"
   ]
  },
  {
   "cell_type": "markdown",
   "metadata": {},
   "source": [
    "Converting dates to datetime:"
   ]
  },
  {
   "cell_type": "code",
   "execution_count": 49,
   "metadata": {
    "ExecuteTime": {
     "end_time": "2019-12-13T04:36:11.331052Z",
     "start_time": "2019-12-13T04:36:04.833539Z"
    }
   },
   "outputs": [],
   "source": [
    "sales['date'] = pd.to_datetime(sales.date, format='%d.%m.%Y')"
   ]
  },
  {
   "cell_type": "markdown",
   "metadata": {},
   "source": [
    "# EDA and Data Processing"
   ]
  },
  {
   "cell_type": "markdown",
   "metadata": {},
   "source": [
    "## Outliers"
   ]
  },
  {
   "cell_type": "markdown",
   "metadata": {},
   "source": [
    "The sales dataframe contains daily information about sales (quantity and price) by store and item. Date_block_num is just a conveninece and tells which month the data point belongs to (there are 34 months on the dataset and we want to forecast sales on the 35th month). There are no missing values on this dataset and the types are all numeric."
   ]
  },
  {
   "cell_type": "code",
   "execution_count": 50,
   "metadata": {
    "ExecuteTime": {
     "end_time": "2019-12-13T04:36:11.344019Z",
     "start_time": "2019-12-13T04:36:11.332049Z"
    }
   },
   "outputs": [
    {
     "data": {
      "text/html": [
       "<div>\n",
       "<style scoped>\n",
       "    .dataframe tbody tr th:only-of-type {\n",
       "        vertical-align: middle;\n",
       "    }\n",
       "\n",
       "    .dataframe tbody tr th {\n",
       "        vertical-align: top;\n",
       "    }\n",
       "\n",
       "    .dataframe thead th {\n",
       "        text-align: right;\n",
       "    }\n",
       "</style>\n",
       "<table border=\"1\" class=\"dataframe\">\n",
       "  <thead>\n",
       "    <tr style=\"text-align: right;\">\n",
       "      <th></th>\n",
       "      <th>date</th>\n",
       "      <th>date_block_num</th>\n",
       "      <th>shop_id</th>\n",
       "      <th>item_id</th>\n",
       "      <th>item_price</th>\n",
       "      <th>item_cnt_day</th>\n",
       "    </tr>\n",
       "  </thead>\n",
       "  <tbody>\n",
       "    <tr>\n",
       "      <th>0</th>\n",
       "      <td>2013-01-02</td>\n",
       "      <td>0</td>\n",
       "      <td>59</td>\n",
       "      <td>22154</td>\n",
       "      <td>999.00</td>\n",
       "      <td>1.0</td>\n",
       "    </tr>\n",
       "    <tr>\n",
       "      <th>1</th>\n",
       "      <td>2013-01-03</td>\n",
       "      <td>0</td>\n",
       "      <td>25</td>\n",
       "      <td>2552</td>\n",
       "      <td>899.00</td>\n",
       "      <td>1.0</td>\n",
       "    </tr>\n",
       "    <tr>\n",
       "      <th>2</th>\n",
       "      <td>2013-01-05</td>\n",
       "      <td>0</td>\n",
       "      <td>25</td>\n",
       "      <td>2552</td>\n",
       "      <td>899.00</td>\n",
       "      <td>-1.0</td>\n",
       "    </tr>\n",
       "    <tr>\n",
       "      <th>3</th>\n",
       "      <td>2013-01-06</td>\n",
       "      <td>0</td>\n",
       "      <td>25</td>\n",
       "      <td>2554</td>\n",
       "      <td>1709.05</td>\n",
       "      <td>1.0</td>\n",
       "    </tr>\n",
       "    <tr>\n",
       "      <th>4</th>\n",
       "      <td>2013-01-15</td>\n",
       "      <td>0</td>\n",
       "      <td>25</td>\n",
       "      <td>2555</td>\n",
       "      <td>1099.00</td>\n",
       "      <td>1.0</td>\n",
       "    </tr>\n",
       "  </tbody>\n",
       "</table>\n",
       "</div>"
      ],
      "text/plain": [
       "        date  date_block_num  shop_id  item_id  item_price  item_cnt_day\n",
       "0 2013-01-02               0       59    22154      999.00           1.0\n",
       "1 2013-01-03               0       25     2552      899.00           1.0\n",
       "2 2013-01-05               0       25     2552      899.00          -1.0\n",
       "3 2013-01-06               0       25     2554     1709.05           1.0\n",
       "4 2013-01-15               0       25     2555     1099.00           1.0"
      ]
     },
     "execution_count": 50,
     "metadata": {},
     "output_type": "execute_result"
    }
   ],
   "source": [
    "sales.head()"
   ]
  },
  {
   "cell_type": "code",
   "execution_count": 51,
   "metadata": {
    "ExecuteTime": {
     "end_time": "2019-12-13T04:36:11.353998Z",
     "start_time": "2019-12-13T04:36:11.347011Z"
    }
   },
   "outputs": [
    {
     "data": {
      "text/plain": [
       "date              datetime64[ns]\n",
       "date_block_num             int64\n",
       "shop_id                    int64\n",
       "item_id                    int64\n",
       "item_price               float64\n",
       "item_cnt_day             float64\n",
       "dtype: object"
      ]
     },
     "execution_count": 51,
     "metadata": {},
     "output_type": "execute_result"
    }
   ],
   "source": [
    "sales.dtypes"
   ]
  },
  {
   "cell_type": "code",
   "execution_count": 52,
   "metadata": {
    "ExecuteTime": {
     "end_time": "2019-12-13T04:36:11.674467Z",
     "start_time": "2019-12-13T04:36:11.356991Z"
    }
   },
   "outputs": [
    {
     "data": {
      "text/plain": [
       "date              0\n",
       "date_block_num    0\n",
       "shop_id           0\n",
       "item_id           0\n",
       "item_price        0\n",
       "item_cnt_day      0\n",
       "dtype: int64"
      ]
     },
     "execution_count": 52,
     "metadata": {},
     "output_type": "execute_result"
    }
   ],
   "source": [
    "sales.isnull().sum()"
   ]
  },
  {
   "cell_type": "markdown",
   "metadata": {},
   "source": [
    "We see some extreme values for item_cnt_day:"
   ]
  },
  {
   "cell_type": "code",
   "execution_count": 53,
   "metadata": {
    "ExecuteTime": {
     "end_time": "2019-12-13T04:36:13.136217Z",
     "start_time": "2019-12-13T04:36:11.676003Z"
    }
   },
   "outputs": [
    {
     "data": {
      "image/png": "[encoded data removed]",
      "text/plain": [
       "<Figure size 432x288 with 1 Axes>"
      ]
     },
     "metadata": {
      "needs_background": "light"
     },
     "output_type": "display_data"
    }
   ],
   "source": [
    "sns.boxplot(x=sales['item_cnt_day']);"
   ]
  },
  {
   "cell_type": "markdown",
   "metadata": {},
   "source": [
    "Taking a closer look on the most extreme value, we see that the item_price for that sale is much smaller than the other days. There must be something wrong with this data entry and we will remove it."
   ]
  },
  {
   "cell_type": "code",
   "execution_count": 54,
   "metadata": {
    "ExecuteTime": {
     "end_time": "2019-12-13T04:36:13.161191Z",
     "start_time": "2019-12-13T04:36:13.137200Z"
    }
   },
   "outputs": [
    {
     "data": {
      "text/html": [
       "<div>\n",
       "<style scoped>\n",
       "    .dataframe tbody tr th:only-of-type {\n",
       "        vertical-align: middle;\n",
       "    }\n",
       "\n",
       "    .dataframe tbody tr th {\n",
       "        vertical-align: top;\n",
       "    }\n",
       "\n",
       "    .dataframe thead th {\n",
       "        text-align: right;\n",
       "    }\n",
       "</style>\n",
       "<table border=\"1\" class=\"dataframe\">\n",
       "  <thead>\n",
       "    <tr style=\"text-align: right;\">\n",
       "      <th></th>\n",
       "      <th>date</th>\n",
       "      <th>date_block_num</th>\n",
       "      <th>shop_id</th>\n",
       "      <th>item_id</th>\n",
       "      <th>item_price</th>\n",
       "      <th>item_cnt_day</th>\n",
       "    </tr>\n",
       "  </thead>\n",
       "  <tbody>\n",
       "    <tr>\n",
       "      <th>2326930</th>\n",
       "      <td>2015-01-15</td>\n",
       "      <td>24</td>\n",
       "      <td>12</td>\n",
       "      <td>20949</td>\n",
       "      <td>4.000000</td>\n",
       "      <td>1000.0</td>\n",
       "    </tr>\n",
       "    <tr>\n",
       "      <th>2909818</th>\n",
       "      <td>2015-10-28</td>\n",
       "      <td>33</td>\n",
       "      <td>12</td>\n",
       "      <td>11373</td>\n",
       "      <td>0.908714</td>\n",
       "      <td>2169.0</td>\n",
       "    </tr>\n",
       "  </tbody>\n",
       "</table>\n",
       "</div>"
      ],
      "text/plain": [
       "              date  date_block_num  shop_id  item_id  item_price  item_cnt_day\n",
       "2326930 2015-01-15              24       12    20949    4.000000        1000.0\n",
       "2909818 2015-10-28              33       12    11373    0.908714        2169.0"
      ]
     },
     "execution_count": 54,
     "metadata": {},
     "output_type": "execute_result"
    }
   ],
   "source": [
    "sales[sales['item_cnt_day'] > 900]"
   ]
  },
  {
   "cell_type": "code",
   "execution_count": 55,
   "metadata": {
    "ExecuteTime": {
     "end_time": "2019-12-13T04:36:13.181107Z",
     "start_time": "2019-12-13T04:36:13.162157Z"
    }
   },
   "outputs": [
    {
     "data": {
      "text/html": [
       "<div>\n",
       "<style scoped>\n",
       "    .dataframe tbody tr th:only-of-type {\n",
       "        vertical-align: middle;\n",
       "    }\n",
       "\n",
       "    .dataframe tbody tr th {\n",
       "        vertical-align: top;\n",
       "    }\n",
       "\n",
       "    .dataframe thead th {\n",
       "        text-align: right;\n",
       "    }\n",
       "</style>\n",
       "<table border=\"1\" class=\"dataframe\">\n",
       "  <thead>\n",
       "    <tr style=\"text-align: right;\">\n",
       "      <th></th>\n",
       "      <th>date</th>\n",
       "      <th>date_block_num</th>\n",
       "      <th>shop_id</th>\n",
       "      <th>item_id</th>\n",
       "      <th>item_price</th>\n",
       "      <th>item_cnt_day</th>\n",
       "    </tr>\n",
       "  </thead>\n",
       "  <tbody>\n",
       "    <tr>\n",
       "      <th>2608326</th>\n",
       "      <td>2015-04-14</td>\n",
       "      <td>27</td>\n",
       "      <td>12</td>\n",
       "      <td>11373</td>\n",
       "      <td>711.688525</td>\n",
       "      <td>61.0</td>\n",
       "    </tr>\n",
       "    <tr>\n",
       "      <th>2865335</th>\n",
       "      <td>2015-09-29</td>\n",
       "      <td>32</td>\n",
       "      <td>12</td>\n",
       "      <td>11373</td>\n",
       "      <td>152.353846</td>\n",
       "      <td>65.0</td>\n",
       "    </tr>\n",
       "    <tr>\n",
       "      <th>2144606</th>\n",
       "      <td>2014-11-13</td>\n",
       "      <td>22</td>\n",
       "      <td>12</td>\n",
       "      <td>11373</td>\n",
       "      <td>159.952381</td>\n",
       "      <td>84.0</td>\n",
       "    </tr>\n",
       "    <tr>\n",
       "      <th>2731649</th>\n",
       "      <td>2015-07-06</td>\n",
       "      <td>30</td>\n",
       "      <td>12</td>\n",
       "      <td>11373</td>\n",
       "      <td>98.947368</td>\n",
       "      <td>95.0</td>\n",
       "    </tr>\n",
       "    <tr>\n",
       "      <th>1651754</th>\n",
       "      <td>2014-05-27</td>\n",
       "      <td>16</td>\n",
       "      <td>12</td>\n",
       "      <td>11373</td>\n",
       "      <td>214.134021</td>\n",
       "      <td>97.0</td>\n",
       "    </tr>\n",
       "    <tr>\n",
       "      <th>1058343</th>\n",
       "      <td>2013-11-29</td>\n",
       "      <td>10</td>\n",
       "      <td>12</td>\n",
       "      <td>11373</td>\n",
       "      <td>72.200000</td>\n",
       "      <td>105.0</td>\n",
       "    </tr>\n",
       "    <tr>\n",
       "      <th>2608348</th>\n",
       "      <td>2015-04-16</td>\n",
       "      <td>27</td>\n",
       "      <td>12</td>\n",
       "      <td>11373</td>\n",
       "      <td>120.120370</td>\n",
       "      <td>108.0</td>\n",
       "    </tr>\n",
       "    <tr>\n",
       "      <th>1058340</th>\n",
       "      <td>2013-11-22</td>\n",
       "      <td>10</td>\n",
       "      <td>12</td>\n",
       "      <td>11373</td>\n",
       "      <td>102.466942</td>\n",
       "      <td>242.0</td>\n",
       "    </tr>\n",
       "    <tr>\n",
       "      <th>2626181</th>\n",
       "      <td>2015-05-19</td>\n",
       "      <td>28</td>\n",
       "      <td>12</td>\n",
       "      <td>11373</td>\n",
       "      <td>155.192950</td>\n",
       "      <td>539.0</td>\n",
       "    </tr>\n",
       "    <tr>\n",
       "      <th>2909818</th>\n",
       "      <td>2015-10-28</td>\n",
       "      <td>33</td>\n",
       "      <td>12</td>\n",
       "      <td>11373</td>\n",
       "      <td>0.908714</td>\n",
       "      <td>2169.0</td>\n",
       "    </tr>\n",
       "  </tbody>\n",
       "</table>\n",
       "</div>"
      ],
      "text/plain": [
       "              date  date_block_num  shop_id  item_id  item_price  item_cnt_day\n",
       "2608326 2015-04-14              27       12    11373  711.688525          61.0\n",
       "2865335 2015-09-29              32       12    11373  152.353846          65.0\n",
       "2144606 2014-11-13              22       12    11373  159.952381          84.0\n",
       "2731649 2015-07-06              30       12    11373   98.947368          95.0\n",
       "1651754 2014-05-27              16       12    11373  214.134021          97.0\n",
       "1058343 2013-11-29              10       12    11373   72.200000         105.0\n",
       "2608348 2015-04-16              27       12    11373  120.120370         108.0\n",
       "1058340 2013-11-22              10       12    11373  102.466942         242.0\n",
       "2626181 2015-05-19              28       12    11373  155.192950         539.0\n",
       "2909818 2015-10-28              33       12    11373    0.908714        2169.0"
      ]
     },
     "execution_count": 55,
     "metadata": {},
     "output_type": "execute_result"
    }
   ],
   "source": [
    "sales[sales['item_id'] == 11373].sort_values(by='item_cnt_day').tail(10)"
   ]
  },
  {
   "cell_type": "code",
   "execution_count": 56,
   "metadata": {
    "ExecuteTime": {
     "end_time": "2019-12-13T04:36:13.324249Z",
     "start_time": "2019-12-13T04:36:13.183103Z"
    }
   },
   "outputs": [],
   "source": [
    "sales = sales[sales['item_cnt_day'] <= 1000]"
   ]
  },
  {
   "cell_type": "markdown",
   "metadata": {},
   "source": [
    "There is a price more than five times higher than the other entries on the dataset:"
   ]
  },
  {
   "cell_type": "code",
   "execution_count": 57,
   "metadata": {
    "ExecuteTime": {
     "end_time": "2019-12-13T04:36:14.683795Z",
     "start_time": "2019-12-13T04:36:13.325839Z"
    }
   },
   "outputs": [
    {
     "data": {
      "text/plain": [
       "<matplotlib.axes._subplots.AxesSubplot at 0x1beda595860>"
      ]
     },
     "execution_count": 57,
     "metadata": {},
     "output_type": "execute_result"
    },
    {
     "data": {
      "image/png": "[encoded data removed]",
      "text/plain": [
       "<Figure size 432x288 with 1 Axes>"
      ]
     },
     "metadata": {
      "needs_background": "light"
     },
     "output_type": "display_data"
    }
   ],
   "source": [
    "sns.boxplot(sales['item_price'])"
   ]
  },
  {
   "cell_type": "markdown",
   "metadata": {},
   "source": [
    "There is only one very expensive sale for what seems to be some kind of software (using google translator). We will remove this entry as well."
   ]
  },
  {
   "cell_type": "code",
   "execution_count": 58,
   "metadata": {
    "ExecuteTime": {
     "end_time": "2019-12-13T04:36:14.699720Z",
     "start_time": "2019-12-13T04:36:14.684797Z"
    }
   },
   "outputs": [
    {
     "data": {
      "text/html": [
       "<div>\n",
       "<style scoped>\n",
       "    .dataframe tbody tr th:only-of-type {\n",
       "        vertical-align: middle;\n",
       "    }\n",
       "\n",
       "    .dataframe tbody tr th {\n",
       "        vertical-align: top;\n",
       "    }\n",
       "\n",
       "    .dataframe thead th {\n",
       "        text-align: right;\n",
       "    }\n",
       "</style>\n",
       "<table border=\"1\" class=\"dataframe\">\n",
       "  <thead>\n",
       "    <tr style=\"text-align: right;\">\n",
       "      <th></th>\n",
       "      <th>date</th>\n",
       "      <th>date_block_num</th>\n",
       "      <th>shop_id</th>\n",
       "      <th>item_id</th>\n",
       "      <th>item_price</th>\n",
       "      <th>item_cnt_day</th>\n",
       "    </tr>\n",
       "  </thead>\n",
       "  <tbody>\n",
       "    <tr>\n",
       "      <th>1163158</th>\n",
       "      <td>2013-12-13</td>\n",
       "      <td>11</td>\n",
       "      <td>12</td>\n",
       "      <td>6066</td>\n",
       "      <td>307980.0</td>\n",
       "      <td>1.0</td>\n",
       "    </tr>\n",
       "  </tbody>\n",
       "</table>\n",
       "</div>"
      ],
      "text/plain": [
       "              date  date_block_num  shop_id  item_id  item_price  item_cnt_day\n",
       "1163158 2013-12-13              11       12     6066    307980.0           1.0"
      ]
     },
     "execution_count": 58,
     "metadata": {},
     "output_type": "execute_result"
    }
   ],
   "source": [
    "sales[sales['item_price']>250000]"
   ]
  },
  {
   "cell_type": "code",
   "execution_count": 59,
   "metadata": {
    "ExecuteTime": {
     "end_time": "2019-12-13T04:36:14.717389Z",
     "start_time": "2019-12-13T04:36:14.702748Z"
    }
   },
   "outputs": [
    {
     "data": {
      "text/html": [
       "<div>\n",
       "<style scoped>\n",
       "    .dataframe tbody tr th:only-of-type {\n",
       "        vertical-align: middle;\n",
       "    }\n",
       "\n",
       "    .dataframe tbody tr th {\n",
       "        vertical-align: top;\n",
       "    }\n",
       "\n",
       "    .dataframe thead th {\n",
       "        text-align: right;\n",
       "    }\n",
       "</style>\n",
       "<table border=\"1\" class=\"dataframe\">\n",
       "  <thead>\n",
       "    <tr style=\"text-align: right;\">\n",
       "      <th></th>\n",
       "      <th>date</th>\n",
       "      <th>date_block_num</th>\n",
       "      <th>shop_id</th>\n",
       "      <th>item_id</th>\n",
       "      <th>item_price</th>\n",
       "      <th>item_cnt_day</th>\n",
       "    </tr>\n",
       "  </thead>\n",
       "  <tbody>\n",
       "    <tr>\n",
       "      <th>1163158</th>\n",
       "      <td>2013-12-13</td>\n",
       "      <td>11</td>\n",
       "      <td>12</td>\n",
       "      <td>6066</td>\n",
       "      <td>307980.0</td>\n",
       "      <td>1.0</td>\n",
       "    </tr>\n",
       "  </tbody>\n",
       "</table>\n",
       "</div>"
      ],
      "text/plain": [
       "              date  date_block_num  shop_id  item_id  item_price  item_cnt_day\n",
       "1163158 2013-12-13              11       12     6066    307980.0           1.0"
      ]
     },
     "execution_count": 59,
     "metadata": {},
     "output_type": "execute_result"
    }
   ],
   "source": [
    "sales[sales['item_id'] == 6066]"
   ]
  },
  {
   "cell_type": "code",
   "execution_count": 60,
   "metadata": {
    "ExecuteTime": {
     "end_time": "2019-12-13T04:36:14.727327Z",
     "start_time": "2019-12-13T04:36:14.719351Z"
    }
   },
   "outputs": [
    {
     "data": {
      "text/html": [
       "<div>\n",
       "<style scoped>\n",
       "    .dataframe tbody tr th:only-of-type {\n",
       "        vertical-align: middle;\n",
       "    }\n",
       "\n",
       "    .dataframe tbody tr th {\n",
       "        vertical-align: top;\n",
       "    }\n",
       "\n",
       "    .dataframe thead th {\n",
       "        text-align: right;\n",
       "    }\n",
       "</style>\n",
       "<table border=\"1\" class=\"dataframe\">\n",
       "  <thead>\n",
       "    <tr style=\"text-align: right;\">\n",
       "      <th></th>\n",
       "      <th>item_name</th>\n",
       "      <th>item_id</th>\n",
       "      <th>item_category_id</th>\n",
       "    </tr>\n",
       "  </thead>\n",
       "  <tbody>\n",
       "    <tr>\n",
       "      <th>6066</th>\n",
       "      <td>Radmin 3  - 522 лиц.</td>\n",
       "      <td>6066</td>\n",
       "      <td>75</td>\n",
       "    </tr>\n",
       "  </tbody>\n",
       "</table>\n",
       "</div>"
      ],
      "text/plain": [
       "                 item_name  item_id  item_category_id\n",
       "6066  Radmin 3  - 522 лиц.     6066                75"
      ]
     },
     "execution_count": 60,
     "metadata": {},
     "output_type": "execute_result"
    }
   ],
   "source": [
    "items[items['item_id']==6066]"
   ]
  },
  {
   "cell_type": "code",
   "execution_count": 61,
   "metadata": {
    "ExecuteTime": {
     "end_time": "2019-12-13T04:36:14.736693Z",
     "start_time": "2019-12-13T04:36:14.729323Z"
    }
   },
   "outputs": [
    {
     "data": {
      "text/html": [
       "<div>\n",
       "<style scoped>\n",
       "    .dataframe tbody tr th:only-of-type {\n",
       "        vertical-align: middle;\n",
       "    }\n",
       "\n",
       "    .dataframe tbody tr th {\n",
       "        vertical-align: top;\n",
       "    }\n",
       "\n",
       "    .dataframe thead th {\n",
       "        text-align: right;\n",
       "    }\n",
       "</style>\n",
       "<table border=\"1\" class=\"dataframe\">\n",
       "  <thead>\n",
       "    <tr style=\"text-align: right;\">\n",
       "      <th></th>\n",
       "      <th>item_category_name</th>\n",
       "      <th>item_category_id</th>\n",
       "    </tr>\n",
       "  </thead>\n",
       "  <tbody>\n",
       "    <tr>\n",
       "      <th>75</th>\n",
       "      <td>Программы - Для дома и офиса</td>\n",
       "      <td>75</td>\n",
       "    </tr>\n",
       "  </tbody>\n",
       "</table>\n",
       "</div>"
      ],
      "text/plain": [
       "              item_category_name  item_category_id\n",
       "75  Программы - Для дома и офиса                75"
      ]
     },
     "execution_count": 61,
     "metadata": {},
     "output_type": "execute_result"
    }
   ],
   "source": [
    "item_categories[item_categories['item_category_id'] == 75]"
   ]
  },
  {
   "cell_type": "code",
   "execution_count": 62,
   "metadata": {
    "ExecuteTime": {
     "end_time": "2019-12-13T04:36:14.909667Z",
     "start_time": "2019-12-13T04:36:14.737683Z"
    }
   },
   "outputs": [],
   "source": [
    "sales = sales[sales['item_price'] < 250000]"
   ]
  },
  {
   "cell_type": "markdown",
   "metadata": {},
   "source": [
    "## Any Repeated Entries"
   ]
  },
  {
   "cell_type": "markdown",
   "metadata": {},
   "source": [
    "Let's check for repeated entries (two different item or shop number for the same item/store):"
   ]
  },
  {
   "cell_type": "code",
   "execution_count": 63,
   "metadata": {
    "ExecuteTime": {
     "end_time": "2019-12-13T04:36:14.931168Z",
     "start_time": "2019-12-13T04:36:14.910665Z"
    }
   },
   "outputs": [
    {
     "data": {
      "text/plain": [
       "True"
      ]
     },
     "execution_count": 63,
     "metadata": {},
     "output_type": "execute_result"
    }
   ],
   "source": [
    "items['item_name'].shape[0] == items['item_name'].nunique()"
   ]
  },
  {
   "cell_type": "code",
   "execution_count": 64,
   "metadata": {
    "ExecuteTime": {
     "end_time": "2019-12-13T04:36:14.938150Z",
     "start_time": "2019-12-13T04:36:14.932166Z"
    }
   },
   "outputs": [
    {
     "data": {
      "text/plain": [
       "True"
      ]
     },
     "execution_count": 64,
     "metadata": {},
     "output_type": "execute_result"
    }
   ],
   "source": [
    "item_categories.shape[0] == item_categories['item_category_name'].nunique()"
   ]
  },
  {
   "cell_type": "code",
   "execution_count": 65,
   "metadata": {
    "ExecuteTime": {
     "end_time": "2019-12-13T04:36:14.945168Z",
     "start_time": "2019-12-13T04:36:14.939150Z"
    }
   },
   "outputs": [
    {
     "data": {
      "text/plain": [
       "True"
      ]
     },
     "execution_count": 65,
     "metadata": {},
     "output_type": "execute_result"
    }
   ],
   "source": [
    "shops.shape[0] == shops['shop_name'].nunique()"
   ]
  },
  {
   "cell_type": "markdown",
   "metadata": {},
   "source": [
    "Everything seems to be ok. One note here: one of the kernels on Kaggle adjusts for repeated shop names. Looking at the data, 3 pairs of shops in the dataset appear to be similar, with small spelling difference. Since I do not know Russian, I couldn't be sure that those stores were indeed different."
   ]
  },
  {
   "cell_type": "markdown",
   "metadata": {},
   "source": [
    "## Processing strings"
   ]
  },
  {
   "cell_type": "markdown",
   "metadata": {},
   "source": [
    "Very useful information from the discussion kernels: the first name on shop_name represents the city and item_category_name contains type and subtype. Let's check a few entries with google translator:"
   ]
  },
  {
   "cell_type": "code",
   "execution_count": 66,
   "metadata": {
    "ExecuteTime": {
     "end_time": "2019-12-13T04:36:14.952818Z",
     "start_time": "2019-12-13T04:36:14.946803Z"
    }
   },
   "outputs": [
    {
     "data": {
      "text/html": [
       "<div>\n",
       "<style scoped>\n",
       "    .dataframe tbody tr th:only-of-type {\n",
       "        vertical-align: middle;\n",
       "    }\n",
       "\n",
       "    .dataframe tbody tr th {\n",
       "        vertical-align: top;\n",
       "    }\n",
       "\n",
       "    .dataframe thead th {\n",
       "        text-align: right;\n",
       "    }\n",
       "</style>\n",
       "<table border=\"1\" class=\"dataframe\">\n",
       "  <thead>\n",
       "    <tr style=\"text-align: right;\">\n",
       "      <th></th>\n",
       "      <th>shop_name</th>\n",
       "      <th>shop_id</th>\n",
       "    </tr>\n",
       "  </thead>\n",
       "  <tbody>\n",
       "    <tr>\n",
       "      <th>0</th>\n",
       "      <td>!Якутск Орджоникидзе, 56 фран</td>\n",
       "      <td>0</td>\n",
       "    </tr>\n",
       "    <tr>\n",
       "      <th>1</th>\n",
       "      <td>!Якутск ТЦ \"Центральный\" фран</td>\n",
       "      <td>1</td>\n",
       "    </tr>\n",
       "    <tr>\n",
       "      <th>2</th>\n",
       "      <td>Адыгея ТЦ \"Мега\"</td>\n",
       "      <td>2</td>\n",
       "    </tr>\n",
       "    <tr>\n",
       "      <th>3</th>\n",
       "      <td>Балашиха ТРК \"Октябрь-Киномир\"</td>\n",
       "      <td>3</td>\n",
       "    </tr>\n",
       "    <tr>\n",
       "      <th>4</th>\n",
       "      <td>Волжский ТЦ \"Волга Молл\"</td>\n",
       "      <td>4</td>\n",
       "    </tr>\n",
       "  </tbody>\n",
       "</table>\n",
       "</div>"
      ],
      "text/plain": [
       "                        shop_name  shop_id\n",
       "0   !Якутск Орджоникидзе, 56 фран        0\n",
       "1   !Якутск ТЦ \"Центральный\" фран        1\n",
       "2                Адыгея ТЦ \"Мега\"        2\n",
       "3  Балашиха ТРК \"Октябрь-Киномир\"        3\n",
       "4        Волжский ТЦ \"Волга Молл\"        4"
      ]
     },
     "execution_count": 66,
     "metadata": {},
     "output_type": "execute_result"
    }
   ],
   "source": [
    "shops.head()"
   ]
  },
  {
   "cell_type": "markdown",
   "metadata": {},
   "source": [
    "Якутск = Yakutsk and Адыгея = Adygea, both Russian cities. For some reason, some of the names have an exclamation mark. Let's remove these and process the new information:"
   ]
  },
  {
   "cell_type": "code",
   "execution_count": 67,
   "metadata": {
    "ExecuteTime": {
     "end_time": "2019-12-13T04:36:14.960368Z",
     "start_time": "2019-12-13T04:36:14.953783Z"
    }
   },
   "outputs": [],
   "source": [
    "clean_shop_names = [shop_name[1:] if shop_name[0]=='!' else shop_name for shop_name in shops['shop_name']]\n",
    "shops['shop_name'] = clean_shop_names"
   ]
  },
  {
   "cell_type": "code",
   "execution_count": 68,
   "metadata": {
    "ExecuteTime": {
     "end_time": "2019-12-13T04:36:14.968353Z",
     "start_time": "2019-12-13T04:36:14.961365Z"
    }
   },
   "outputs": [],
   "source": [
    "city_names = [shop_name.split(' ')[0] for shop_name in clean_shop_names]\n",
    "shops['city'] = city_names\n",
    "shops['city'] = LabelEncoder().fit_transform(shops['city'])"
   ]
  },
  {
   "cell_type": "code",
   "execution_count": 69,
   "metadata": {
    "ExecuteTime": {
     "end_time": "2019-12-13T04:36:14.976154Z",
     "start_time": "2019-12-13T04:36:14.970351Z"
    }
   },
   "outputs": [],
   "source": [
    "shops.drop(columns='shop_name', inplace=True)"
   ]
  },
  {
   "cell_type": "code",
   "execution_count": 70,
   "metadata": {
    "ExecuteTime": {
     "end_time": "2019-12-13T04:36:14.985121Z",
     "start_time": "2019-12-13T04:36:14.977143Z"
    }
   },
   "outputs": [
    {
     "data": {
      "text/html": [
       "<div>\n",
       "<style scoped>\n",
       "    .dataframe tbody tr th:only-of-type {\n",
       "        vertical-align: middle;\n",
       "    }\n",
       "\n",
       "    .dataframe tbody tr th {\n",
       "        vertical-align: top;\n",
       "    }\n",
       "\n",
       "    .dataframe thead th {\n",
       "        text-align: right;\n",
       "    }\n",
       "</style>\n",
       "<table border=\"1\" class=\"dataframe\">\n",
       "  <thead>\n",
       "    <tr style=\"text-align: right;\">\n",
       "      <th></th>\n",
       "      <th>shop_id</th>\n",
       "      <th>city</th>\n",
       "    </tr>\n",
       "  </thead>\n",
       "  <tbody>\n",
       "    <tr>\n",
       "      <th>0</th>\n",
       "      <td>0</td>\n",
       "      <td>29</td>\n",
       "    </tr>\n",
       "    <tr>\n",
       "      <th>1</th>\n",
       "      <td>1</td>\n",
       "      <td>29</td>\n",
       "    </tr>\n",
       "    <tr>\n",
       "      <th>2</th>\n",
       "      <td>2</td>\n",
       "      <td>0</td>\n",
       "    </tr>\n",
       "    <tr>\n",
       "      <th>3</th>\n",
       "      <td>3</td>\n",
       "      <td>1</td>\n",
       "    </tr>\n",
       "    <tr>\n",
       "      <th>4</th>\n",
       "      <td>4</td>\n",
       "      <td>2</td>\n",
       "    </tr>\n",
       "  </tbody>\n",
       "</table>\n",
       "</div>"
      ],
      "text/plain": [
       "   shop_id  city\n",
       "0        0    29\n",
       "1        1    29\n",
       "2        2     0\n",
       "3        3     1\n",
       "4        4     2"
      ]
     },
     "execution_count": 70,
     "metadata": {},
     "output_type": "execute_result"
    }
   ],
   "source": [
    "shops.head()"
   ]
  },
  {
   "cell_type": "markdown",
   "metadata": {},
   "source": [
    "Now processing item_category:"
   ]
  },
  {
   "cell_type": "code",
   "execution_count": 71,
   "metadata": {
    "ExecuteTime": {
     "end_time": "2019-12-13T04:36:14.993013Z",
     "start_time": "2019-12-13T04:36:14.986014Z"
    }
   },
   "outputs": [],
   "source": [
    "item_categories['category'] = [word.split('-')[0].strip() for word in item_categories['item_category_name']]\n",
    "item_categories['category'] = LabelEncoder().fit_transform(item_categories['category'])"
   ]
  },
  {
   "cell_type": "code",
   "execution_count": 72,
   "metadata": {
    "ExecuteTime": {
     "end_time": "2019-12-13T04:36:15.000963Z",
     "start_time": "2019-12-13T04:36:14.993982Z"
    }
   },
   "outputs": [],
   "source": [
    "item_categories['sub_category'] = [word.split('-')[1].strip() if len(word.split('-')) > 1 else 'None' for word in item_categories['item_category_name']]\n",
    "item_categories['sub_category'] = LabelEncoder().fit_transform(item_categories['sub_category'])"
   ]
  },
  {
   "cell_type": "code",
   "execution_count": 73,
   "metadata": {
    "ExecuteTime": {
     "end_time": "2019-12-13T04:36:15.007944Z",
     "start_time": "2019-12-13T04:36:15.001963Z"
    }
   },
   "outputs": [],
   "source": [
    "item_categories.drop(columns='item_category_name', inplace=True)"
   ]
  },
  {
   "cell_type": "code",
   "execution_count": 74,
   "metadata": {
    "ExecuteTime": {
     "end_time": "2019-12-13T04:36:15.016920Z",
     "start_time": "2019-12-13T04:36:15.008941Z"
    }
   },
   "outputs": [
    {
     "data": {
      "text/html": [
       "<div>\n",
       "<style scoped>\n",
       "    .dataframe tbody tr th:only-of-type {\n",
       "        vertical-align: middle;\n",
       "    }\n",
       "\n",
       "    .dataframe tbody tr th {\n",
       "        vertical-align: top;\n",
       "    }\n",
       "\n",
       "    .dataframe thead th {\n",
       "        text-align: right;\n",
       "    }\n",
       "</style>\n",
       "<table border=\"1\" class=\"dataframe\">\n",
       "  <thead>\n",
       "    <tr style=\"text-align: right;\">\n",
       "      <th></th>\n",
       "      <th>item_category_id</th>\n",
       "      <th>category</th>\n",
       "      <th>sub_category</th>\n",
       "    </tr>\n",
       "  </thead>\n",
       "  <tbody>\n",
       "    <tr>\n",
       "      <th>0</th>\n",
       "      <td>0</td>\n",
       "      <td>0</td>\n",
       "      <td>29</td>\n",
       "    </tr>\n",
       "    <tr>\n",
       "      <th>1</th>\n",
       "      <td>1</td>\n",
       "      <td>1</td>\n",
       "      <td>10</td>\n",
       "    </tr>\n",
       "    <tr>\n",
       "      <th>2</th>\n",
       "      <td>2</td>\n",
       "      <td>1</td>\n",
       "      <td>11</td>\n",
       "    </tr>\n",
       "    <tr>\n",
       "      <th>3</th>\n",
       "      <td>3</td>\n",
       "      <td>1</td>\n",
       "      <td>12</td>\n",
       "    </tr>\n",
       "    <tr>\n",
       "      <th>4</th>\n",
       "      <td>4</td>\n",
       "      <td>1</td>\n",
       "      <td>14</td>\n",
       "    </tr>\n",
       "  </tbody>\n",
       "</table>\n",
       "</div>"
      ],
      "text/plain": [
       "   item_category_id  category  sub_category\n",
       "0                 0         0            29\n",
       "1                 1         1            10\n",
       "2                 2         1            11\n",
       "3                 3         1            12\n",
       "4                 4         1            14"
      ]
     },
     "execution_count": 74,
     "metadata": {},
     "output_type": "execute_result"
    }
   ],
   "source": [
    "item_categories.head()"
   ]
  },
  {
   "cell_type": "markdown",
   "metadata": {},
   "source": [
    "We will not use any information from item_name for now, so we drop it:"
   ]
  },
  {
   "cell_type": "code",
   "execution_count": 75,
   "metadata": {
    "ExecuteTime": {
     "end_time": "2019-12-13T04:36:15.022910Z",
     "start_time": "2019-12-13T04:36:15.017918Z"
    }
   },
   "outputs": [],
   "source": [
    "items.drop(columns='item_name', inplace=True)"
   ]
  },
  {
   "cell_type": "code",
   "execution_count": 76,
   "metadata": {
    "ExecuteTime": {
     "end_time": "2019-12-13T04:36:15.035870Z",
     "start_time": "2019-12-13T04:36:15.024900Z"
    }
   },
   "outputs": [
    {
     "data": {
      "text/html": [
       "<div>\n",
       "<style scoped>\n",
       "    .dataframe tbody tr th:only-of-type {\n",
       "        vertical-align: middle;\n",
       "    }\n",
       "\n",
       "    .dataframe tbody tr th {\n",
       "        vertical-align: top;\n",
       "    }\n",
       "\n",
       "    .dataframe thead th {\n",
       "        text-align: right;\n",
       "    }\n",
       "</style>\n",
       "<table border=\"1\" class=\"dataframe\">\n",
       "  <thead>\n",
       "    <tr style=\"text-align: right;\">\n",
       "      <th></th>\n",
       "      <th>date</th>\n",
       "      <th>date_block_num</th>\n",
       "      <th>shop_id</th>\n",
       "      <th>item_id</th>\n",
       "      <th>item_price</th>\n",
       "      <th>item_cnt_day</th>\n",
       "    </tr>\n",
       "  </thead>\n",
       "  <tbody>\n",
       "    <tr>\n",
       "      <th>0</th>\n",
       "      <td>2013-01-02</td>\n",
       "      <td>0</td>\n",
       "      <td>59</td>\n",
       "      <td>22154</td>\n",
       "      <td>999.00</td>\n",
       "      <td>1.0</td>\n",
       "    </tr>\n",
       "    <tr>\n",
       "      <th>1</th>\n",
       "      <td>2013-01-03</td>\n",
       "      <td>0</td>\n",
       "      <td>25</td>\n",
       "      <td>2552</td>\n",
       "      <td>899.00</td>\n",
       "      <td>1.0</td>\n",
       "    </tr>\n",
       "    <tr>\n",
       "      <th>2</th>\n",
       "      <td>2013-01-05</td>\n",
       "      <td>0</td>\n",
       "      <td>25</td>\n",
       "      <td>2552</td>\n",
       "      <td>899.00</td>\n",
       "      <td>-1.0</td>\n",
       "    </tr>\n",
       "    <tr>\n",
       "      <th>3</th>\n",
       "      <td>2013-01-06</td>\n",
       "      <td>0</td>\n",
       "      <td>25</td>\n",
       "      <td>2554</td>\n",
       "      <td>1709.05</td>\n",
       "      <td>1.0</td>\n",
       "    </tr>\n",
       "    <tr>\n",
       "      <th>4</th>\n",
       "      <td>2013-01-15</td>\n",
       "      <td>0</td>\n",
       "      <td>25</td>\n",
       "      <td>2555</td>\n",
       "      <td>1099.00</td>\n",
       "      <td>1.0</td>\n",
       "    </tr>\n",
       "  </tbody>\n",
       "</table>\n",
       "</div>"
      ],
      "text/plain": [
       "        date  date_block_num  shop_id  item_id  item_price  item_cnt_day\n",
       "0 2013-01-02               0       59    22154      999.00           1.0\n",
       "1 2013-01-03               0       25     2552      899.00           1.0\n",
       "2 2013-01-05               0       25     2552      899.00          -1.0\n",
       "3 2013-01-06               0       25     2554     1709.05           1.0\n",
       "4 2013-01-15               0       25     2555     1099.00           1.0"
      ]
     },
     "execution_count": 76,
     "metadata": {},
     "output_type": "execute_result"
    }
   ],
   "source": [
    "sales.head()"
   ]
  },
  {
   "cell_type": "code",
   "execution_count": 77,
   "metadata": {
    "ExecuteTime": {
     "end_time": "2019-12-13T04:36:15.045879Z",
     "start_time": "2019-12-13T04:36:15.036879Z"
    }
   },
   "outputs": [
    {
     "data": {
      "text/html": [
       "<div>\n",
       "<style scoped>\n",
       "    .dataframe tbody tr th:only-of-type {\n",
       "        vertical-align: middle;\n",
       "    }\n",
       "\n",
       "    .dataframe tbody tr th {\n",
       "        vertical-align: top;\n",
       "    }\n",
       "\n",
       "    .dataframe thead th {\n",
       "        text-align: right;\n",
       "    }\n",
       "</style>\n",
       "<table border=\"1\" class=\"dataframe\">\n",
       "  <thead>\n",
       "    <tr style=\"text-align: right;\">\n",
       "      <th></th>\n",
       "      <th>ID</th>\n",
       "      <th>shop_id</th>\n",
       "      <th>item_id</th>\n",
       "    </tr>\n",
       "  </thead>\n",
       "  <tbody>\n",
       "    <tr>\n",
       "      <th>0</th>\n",
       "      <td>0</td>\n",
       "      <td>5</td>\n",
       "      <td>5037</td>\n",
       "    </tr>\n",
       "    <tr>\n",
       "      <th>1</th>\n",
       "      <td>1</td>\n",
       "      <td>5</td>\n",
       "      <td>5320</td>\n",
       "    </tr>\n",
       "    <tr>\n",
       "      <th>2</th>\n",
       "      <td>2</td>\n",
       "      <td>5</td>\n",
       "      <td>5233</td>\n",
       "    </tr>\n",
       "    <tr>\n",
       "      <th>3</th>\n",
       "      <td>3</td>\n",
       "      <td>5</td>\n",
       "      <td>5232</td>\n",
       "    </tr>\n",
       "    <tr>\n",
       "      <th>4</th>\n",
       "      <td>4</td>\n",
       "      <td>5</td>\n",
       "      <td>5268</td>\n",
       "    </tr>\n",
       "  </tbody>\n",
       "</table>\n",
       "</div>"
      ],
      "text/plain": [
       "   ID  shop_id  item_id\n",
       "0   0        5     5037\n",
       "1   1        5     5320\n",
       "2   2        5     5233\n",
       "3   3        5     5232\n",
       "4   4        5     5268"
      ]
     },
     "execution_count": 77,
     "metadata": {},
     "output_type": "execute_result"
    }
   ],
   "source": [
    "test.head()"
   ]
  },
  {
   "cell_type": "markdown",
   "metadata": {},
   "source": [
    "# Monthly Data"
   ]
  },
  {
   "cell_type": "markdown",
   "metadata": {},
   "source": [
    "Some item-shop combinations from the test set are not present on the training set. To deal with this, we will start by making a grid with all possible shop-item-month combinations from the training set:"
   ]
  },
  {
   "cell_type": "code",
   "execution_count": 78,
   "metadata": {
    "ExecuteTime": {
     "end_time": "2019-12-13T04:36:20.549422Z",
     "start_time": "2019-12-13T04:36:15.046842Z"
    }
   },
   "outputs": [],
   "source": [
    "from itertools import product\n",
    "\n",
    "grid = []\n",
    "\n",
    "for month in sales['date_block_num'].unique():\n",
    "    \n",
    "    shop_ids = sales.loc[sales['date_block_num'] == month, 'shop_id'].unique()\n",
    "    item_ids = sales.loc[sales['date_block_num'] == month, 'item_id'].unique()\n",
    "    grid.append(np.array(list(product(shop_ids, item_ids, [month]))))"
   ]
  },
  {
   "cell_type": "code",
   "execution_count": 79,
   "metadata": {
    "ExecuteTime": {
     "end_time": "2019-12-13T04:36:20.637111Z",
     "start_time": "2019-12-13T04:36:20.550384Z"
    }
   },
   "outputs": [],
   "source": [
    "col_names = ['shop_id', 'item_id', 'date_block_num']\n",
    "grid_df = pd.DataFrame(np.vstack(grid), columns = col_names)"
   ]
  },
  {
   "cell_type": "markdown",
   "metadata": {},
   "source": [
    "We will aggregate our data on a monthly frequency on top of this new grid. When data is not available for a certain month-item-shop combination, it means that there are no sales for that item on that shop for that month, so we fill these positions with 0."
   ]
  },
  {
   "cell_type": "markdown",
   "metadata": {},
   "source": [
    "## Target (month-shop-item agreggation)"
   ]
  },
  {
   "cell_type": "markdown",
   "metadata": {
    "ExecuteTime": {
     "end_time": "2019-10-23T01:52:35.211060Z",
     "start_time": "2019-10-23T01:52:35.170171Z"
    }
   },
   "source": [
    "Let's start with the target variable aggregation, that is the sum os sales count for every month-store-item combination:"
   ]
  },
  {
   "cell_type": "code",
   "execution_count": 80,
   "metadata": {
    "ExecuteTime": {
     "end_time": "2019-12-13T04:36:20.655045Z",
     "start_time": "2019-12-13T04:36:20.638109Z"
    }
   },
   "outputs": [],
   "source": [
    "sales_gb = sales.groupby(['date_block_num', 'shop_id', 'item_id'])"
   ]
  },
  {
   "cell_type": "code",
   "execution_count": 81,
   "metadata": {
    "ExecuteTime": {
     "end_time": "2019-12-13T04:36:21.709092Z",
     "start_time": "2019-12-13T04:36:20.657039Z"
    }
   },
   "outputs": [],
   "source": [
    "# it drops the date column automatically for sum and mean\n",
    "agg_sales = sales_gb.agg(\n",
    "    {\n",
    "     'item_cnt_day':[np.sum]\n",
    "    }\n",
    ").fillna(0).clip(0,20)"
   ]
  },
  {
   "cell_type": "code",
   "execution_count": 82,
   "metadata": {
    "ExecuteTime": {
     "end_time": "2019-12-13T04:36:21.715590Z",
     "start_time": "2019-12-13T04:36:21.711085Z"
    }
   },
   "outputs": [],
   "source": [
    "agg_sales.columns = ['target']"
   ]
  },
  {
   "cell_type": "code",
   "execution_count": 83,
   "metadata": {
    "ExecuteTime": {
     "end_time": "2019-12-13T04:36:25.673876Z",
     "start_time": "2019-12-13T04:36:21.724075Z"
    }
   },
   "outputs": [],
   "source": [
    "monthly_sales = pd.merge(grid_df, agg_sales, how='left', on=col_names)"
   ]
  },
  {
   "cell_type": "markdown",
   "metadata": {},
   "source": [
    "According to the competition rules, the final predictions should be clipped between 0 and 20. We clip our data as well, so we can optimize our models will the test set in mind:"
   ]
  },
  {
   "cell_type": "code",
   "execution_count": 84,
   "metadata": {
    "ExecuteTime": {
     "end_time": "2019-12-13T04:36:25.884155Z",
     "start_time": "2019-12-13T04:36:25.678873Z"
    }
   },
   "outputs": [],
   "source": [
    "monthly_sales['target'] = monthly_sales['target'].fillna(0).clip(0,20)"
   ]
  },
  {
   "cell_type": "markdown",
   "metadata": {},
   "source": [
    "# Merging Train and Test Set:"
   ]
  },
  {
   "cell_type": "markdown",
   "metadata": {},
   "source": [
    "On the next section, we will create new features (from target mean encoding and using lags). We will also need to create these new features on the test set, so we can use our model to predict on the final set and submit the results. By merging our training data and the test set, we can create the new features on both sets in one single pass. We will be careful to avoid data leakage. First, we add the new columns created so far on the test set:"
   ]
  },
  {
   "cell_type": "code",
   "execution_count": 85,
   "metadata": {
    "ExecuteTime": {
     "end_time": "2019-12-13T04:36:25.900113Z",
     "start_time": "2019-12-13T04:36:25.885153Z"
    }
   },
   "outputs": [],
   "source": [
    "test_mod = test[['shop_id', 'item_id']].copy()\n",
    "test_mod['date_block_num'] = 34\n",
    "test_mod['target'] = np.nan"
   ]
  },
  {
   "cell_type": "markdown",
   "metadata": {},
   "source": [
    "Then we concatenate the data:"
   ]
  },
  {
   "cell_type": "code",
   "execution_count": 86,
   "metadata": {
    "ExecuteTime": {
     "end_time": "2019-12-13T04:36:26.052923Z",
     "start_time": "2019-12-13T04:36:25.902108Z"
    }
   },
   "outputs": [],
   "source": [
    "data = pd.concat([monthly_sales, \n",
    "                  test_mod], axis=0)"
   ]
  },
  {
   "cell_type": "markdown",
   "metadata": {},
   "source": [
    "# New Features"
   ]
  },
  {
   "cell_type": "markdown",
   "metadata": {},
   "source": [
    "## City and Category Information"
   ]
  },
  {
   "cell_type": "markdown",
   "metadata": {},
   "source": [
    "First, we need the item_category IDs:"
   ]
  },
  {
   "cell_type": "code",
   "execution_count": 87,
   "metadata": {
    "ExecuteTime": {
     "end_time": "2019-12-13T04:36:27.929292Z",
     "start_time": "2019-12-13T04:36:26.054917Z"
    }
   },
   "outputs": [],
   "source": [
    "data = pd.merge(data, items, \n",
    "                         how='left', on=['item_id'])"
   ]
  },
  {
   "cell_type": "markdown",
   "metadata": {},
   "source": [
    "Now we add category and sub_category:"
   ]
  },
  {
   "cell_type": "code",
   "execution_count": 88,
   "metadata": {
    "ExecuteTime": {
     "end_time": "2019-12-13T04:36:29.616757Z",
     "start_time": "2019-12-13T04:36:27.931287Z"
    }
   },
   "outputs": [],
   "source": [
    "data = pd.merge(data, item_categories, how='left',\n",
    "         on=['item_category_id'])"
   ]
  },
  {
   "cell_type": "markdown",
   "metadata": {},
   "source": [
    "Finally, we add city:"
   ]
  },
  {
   "cell_type": "code",
   "execution_count": 89,
   "metadata": {
    "ExecuteTime": {
     "end_time": "2019-12-13T04:36:31.410036Z",
     "start_time": "2019-12-13T04:36:29.618636Z"
    }
   },
   "outputs": [],
   "source": [
    "data = pd.merge(data, shops, how='left',\n",
    "                         on=['shop_id'])"
   ]
  },
  {
   "cell_type": "code",
   "execution_count": 90,
   "metadata": {
    "ExecuteTime": {
     "end_time": "2019-12-13T04:36:31.427988Z",
     "start_time": "2019-12-13T04:36:31.412031Z"
    }
   },
   "outputs": [
    {
     "data": {
      "text/html": [
       "<div>\n",
       "<style scoped>\n",
       "    .dataframe tbody tr th:only-of-type {\n",
       "        vertical-align: middle;\n",
       "    }\n",
       "\n",
       "    .dataframe tbody tr th {\n",
       "        vertical-align: top;\n",
       "    }\n",
       "\n",
       "    .dataframe thead th {\n",
       "        text-align: right;\n",
       "    }\n",
       "</style>\n",
       "<table border=\"1\" class=\"dataframe\">\n",
       "  <thead>\n",
       "    <tr style=\"text-align: right;\">\n",
       "      <th></th>\n",
       "      <th>shop_id</th>\n",
       "      <th>item_id</th>\n",
       "      <th>date_block_num</th>\n",
       "      <th>target</th>\n",
       "      <th>item_category_id</th>\n",
       "      <th>category</th>\n",
       "      <th>sub_category</th>\n",
       "      <th>city</th>\n",
       "    </tr>\n",
       "  </thead>\n",
       "  <tbody>\n",
       "    <tr>\n",
       "      <th>11127999</th>\n",
       "      <td>45</td>\n",
       "      <td>18454</td>\n",
       "      <td>34</td>\n",
       "      <td>NaN</td>\n",
       "      <td>55</td>\n",
       "      <td>13</td>\n",
       "      <td>2</td>\n",
       "      <td>20</td>\n",
       "    </tr>\n",
       "    <tr>\n",
       "      <th>11128000</th>\n",
       "      <td>45</td>\n",
       "      <td>16188</td>\n",
       "      <td>34</td>\n",
       "      <td>NaN</td>\n",
       "      <td>64</td>\n",
       "      <td>14</td>\n",
       "      <td>40</td>\n",
       "      <td>20</td>\n",
       "    </tr>\n",
       "    <tr>\n",
       "      <th>11128001</th>\n",
       "      <td>45</td>\n",
       "      <td>15757</td>\n",
       "      <td>34</td>\n",
       "      <td>NaN</td>\n",
       "      <td>55</td>\n",
       "      <td>13</td>\n",
       "      <td>2</td>\n",
       "      <td>20</td>\n",
       "    </tr>\n",
       "    <tr>\n",
       "      <th>11128002</th>\n",
       "      <td>45</td>\n",
       "      <td>19648</td>\n",
       "      <td>34</td>\n",
       "      <td>NaN</td>\n",
       "      <td>40</td>\n",
       "      <td>11</td>\n",
       "      <td>4</td>\n",
       "      <td>20</td>\n",
       "    </tr>\n",
       "    <tr>\n",
       "      <th>11128003</th>\n",
       "      <td>45</td>\n",
       "      <td>969</td>\n",
       "      <td>34</td>\n",
       "      <td>NaN</td>\n",
       "      <td>37</td>\n",
       "      <td>11</td>\n",
       "      <td>1</td>\n",
       "      <td>20</td>\n",
       "    </tr>\n",
       "  </tbody>\n",
       "</table>\n",
       "</div>"
      ],
      "text/plain": [
       "          shop_id  item_id  date_block_num  target  item_category_id  \\\n",
       "11127999       45    18454              34     NaN                55   \n",
       "11128000       45    16188              34     NaN                64   \n",
       "11128001       45    15757              34     NaN                55   \n",
       "11128002       45    19648              34     NaN                40   \n",
       "11128003       45      969              34     NaN                37   \n",
       "\n",
       "          category  sub_category  city  \n",
       "11127999        13             2    20  \n",
       "11128000        14            40    20  \n",
       "11128001        13             2    20  \n",
       "11128002        11             4    20  \n",
       "11128003        11             1    20  "
      ]
     },
     "execution_count": 90,
     "metadata": {},
     "output_type": "execute_result"
    }
   ],
   "source": [
    "data.tail()"
   ]
  },
  {
   "cell_type": "markdown",
   "metadata": {},
   "source": [
    "## Target Mean Encoding"
   ]
  },
  {
   "cell_type": "markdown",
   "metadata": {},
   "source": [
    "In this section, we add target mean encoded variables, using several combinations of features for the aggregations. We won't worry about using KFold scheme to calculate the mean encoded variables because we will only use lags of these, so there is no data leakage."
   ]
  },
  {
   "cell_type": "code",
   "execution_count": 91,
   "metadata": {
    "ExecuteTime": {
     "end_time": "2019-12-13T04:36:31.436963Z",
     "start_time": "2019-12-13T04:36:31.430979Z"
    }
   },
   "outputs": [],
   "source": [
    "def add_target_encoding(data, join_on, name, y_name='target'):\n",
    "    \n",
    "    data_agg = data.groupby(join_on).agg({y_name:['mean']})\n",
    "    data_agg.columns = [name]\n",
    "\n",
    "    return pd.merge(data, data_agg, on=join_on)\n",
    "    "
   ]
  },
  {
   "cell_type": "markdown",
   "metadata": {},
   "source": [
    "Month:"
   ]
  },
  {
   "cell_type": "code",
   "execution_count": 92,
   "metadata": {
    "ExecuteTime": {
     "end_time": "2019-12-13T04:36:34.323749Z",
     "start_time": "2019-12-13T04:36:31.439955Z"
    }
   },
   "outputs": [],
   "source": [
    "data = add_target_encoding(data,['date_block_num'], 'target_month')"
   ]
  },
  {
   "cell_type": "markdown",
   "metadata": {},
   "source": [
    "Month-item:"
   ]
  },
  {
   "cell_type": "code",
   "execution_count": 93,
   "metadata": {
    "ExecuteTime": {
     "end_time": "2019-12-13T04:36:39.027211Z",
     "start_time": "2019-12-13T04:36:34.324746Z"
    }
   },
   "outputs": [],
   "source": [
    "data = add_target_encoding(data,['date_block_num', 'item_id'], \n",
    "                           'target_month_item')"
   ]
  },
  {
   "cell_type": "markdown",
   "metadata": {},
   "source": [
    "Month-shop:"
   ]
  },
  {
   "cell_type": "code",
   "execution_count": 94,
   "metadata": {
    "ExecuteTime": {
     "end_time": "2019-12-13T04:36:43.955949Z",
     "start_time": "2019-12-13T04:36:39.030203Z"
    }
   },
   "outputs": [],
   "source": [
    "data = add_target_encoding(data,['date_block_num', 'shop_id'], \n",
    "                           'target_month_shop')"
   ]
  },
  {
   "cell_type": "markdown",
   "metadata": {},
   "source": [
    "Month-Item_Category_Id:"
   ]
  },
  {
   "cell_type": "code",
   "execution_count": 95,
   "metadata": {
    "ExecuteTime": {
     "end_time": "2019-12-13T04:36:48.775829Z",
     "start_time": "2019-12-13T04:36:43.958941Z"
    }
   },
   "outputs": [],
   "source": [
    "data = add_target_encoding(data,['date_block_num', 'item_category_id'], \n",
    "                           'target_month_item_category_id')"
   ]
  },
  {
   "cell_type": "markdown",
   "metadata": {},
   "source": [
    "Month-shop-item_category_id:"
   ]
  },
  {
   "cell_type": "code",
   "execution_count": 96,
   "metadata": {
    "ExecuteTime": {
     "end_time": "2019-12-13T04:36:53.754388Z",
     "start_time": "2019-12-13T04:36:48.778192Z"
    }
   },
   "outputs": [],
   "source": [
    "data = add_target_encoding(data,['date_block_num', 'shop_id', 'item_category_id'], \n",
    "                           'target_month_shop_item_category_id')"
   ]
  },
  {
   "cell_type": "markdown",
   "metadata": {},
   "source": [
    "Month-shop-category:"
   ]
  },
  {
   "cell_type": "code",
   "execution_count": 97,
   "metadata": {
    "ExecuteTime": {
     "end_time": "2019-12-13T04:36:59.240136Z",
     "start_time": "2019-12-13T04:36:53.757260Z"
    }
   },
   "outputs": [],
   "source": [
    "data = add_target_encoding(data,['date_block_num', 'shop_id', 'category'], \n",
    "                           'target_month_shop_category')"
   ]
  },
  {
   "cell_type": "markdown",
   "metadata": {},
   "source": [
    "Month-shop-sub_category:"
   ]
  },
  {
   "cell_type": "code",
   "execution_count": 98,
   "metadata": {
    "ExecuteTime": {
     "end_time": "2019-12-13T04:37:05.493068Z",
     "start_time": "2019-12-13T04:36:59.242099Z"
    }
   },
   "outputs": [],
   "source": [
    "data = add_target_encoding(data,['date_block_num', 'shop_id', 'sub_category'], \n",
    "                           'target_month_shop_sub_category')"
   ]
  },
  {
   "cell_type": "markdown",
   "metadata": {},
   "source": [
    "Month-City:"
   ]
  },
  {
   "cell_type": "code",
   "execution_count": 99,
   "metadata": {
    "ExecuteTime": {
     "end_time": "2019-12-13T04:37:11.085101Z",
     "start_time": "2019-12-13T04:37:05.495064Z"
    }
   },
   "outputs": [],
   "source": [
    "data = add_target_encoding(data,['date_block_num', 'city'], \n",
    "                           'target_month_city')"
   ]
  },
  {
   "cell_type": "markdown",
   "metadata": {},
   "source": [
    "Month-Item-City:"
   ]
  },
  {
   "cell_type": "code",
   "execution_count": 100,
   "metadata": {
    "ExecuteTime": {
     "end_time": "2019-12-13T04:37:24.216067Z",
     "start_time": "2019-12-13T04:37:11.087097Z"
    }
   },
   "outputs": [],
   "source": [
    "data = add_target_encoding(data,['date_block_num','item_id', 'city'], \n",
    "                           'target_month_item_city')"
   ]
  },
  {
   "cell_type": "markdown",
   "metadata": {},
   "source": [
    "Month-Category:"
   ]
  },
  {
   "cell_type": "code",
   "execution_count": 101,
   "metadata": {
    "ExecuteTime": {
     "end_time": "2019-12-13T04:37:30.534207Z",
     "start_time": "2019-12-13T04:37:24.218064Z"
    }
   },
   "outputs": [],
   "source": [
    "data = add_target_encoding(data,['date_block_num',  'category'], \n",
    "                           'target_month_category')"
   ]
  },
  {
   "cell_type": "markdown",
   "metadata": {},
   "source": [
    "Month-Sub_category:"
   ]
  },
  {
   "cell_type": "code",
   "execution_count": 102,
   "metadata": {
    "ExecuteTime": {
     "end_time": "2019-12-13T04:37:37.055026Z",
     "start_time": "2019-12-13T04:37:30.536202Z"
    }
   },
   "outputs": [],
   "source": [
    "data = add_target_encoding(data,['date_block_num',  'sub_category'], \n",
    "                           'target_month_sub_category')"
   ]
  },
  {
   "cell_type": "markdown",
   "metadata": {},
   "source": [
    "# Memory Management"
   ]
  },
  {
   "cell_type": "markdown",
   "metadata": {},
   "source": [
    "The datasets are huge on this project. Let's free some memory to avoid any problems on the next steps."
   ]
  },
  {
   "cell_type": "markdown",
   "metadata": {},
   "source": [
    "Saving memory by convertin integers:"
   ]
  },
  {
   "cell_type": "code",
   "execution_count": 103,
   "metadata": {
    "ExecuteTime": {
     "end_time": "2019-12-13T04:37:37.060013Z",
     "start_time": "2019-12-13T04:37:37.056024Z"
    }
   },
   "outputs": [],
   "source": [
    "small_int_columns = ['city', 'item_category_id', 'category', 'sub_category',\n",
    "                     'date_block_num', 'shop_id']"
   ]
  },
  {
   "cell_type": "code",
   "execution_count": 104,
   "metadata": {
    "ExecuteTime": {
     "end_time": "2019-12-13T04:37:37.415064Z",
     "start_time": "2019-12-13T04:37:37.062009Z"
    }
   },
   "outputs": [],
   "source": [
    "for col in small_int_columns:\n",
    "    data[col] = data[col].astype(np.int16)"
   ]
  },
  {
   "cell_type": "markdown",
   "metadata": {},
   "source": [
    "Same with floats:"
   ]
  },
  {
   "cell_type": "code",
   "execution_count": 105,
   "metadata": {
    "ExecuteTime": {
     "end_time": "2019-12-13T04:37:37.422045Z",
     "start_time": "2019-12-13T04:37:37.417059Z"
    }
   },
   "outputs": [],
   "source": [
    "# columns with target information. these will need to be removed before training\n",
    "target_columns = [col for col in data.columns if col.startswith('target')]"
   ]
  },
  {
   "cell_type": "code",
   "execution_count": 106,
   "metadata": {
    "ExecuteTime": {
     "end_time": "2019-12-13T04:37:39.550353Z",
     "start_time": "2019-12-13T04:37:37.425037Z"
    }
   },
   "outputs": [],
   "source": [
    "for col in target_columns:\n",
    "    data[col] = data[col].astype(np.float32)"
   ]
  },
  {
   "cell_type": "markdown",
   "metadata": {},
   "source": [
    "Deleting data that we won't need from now on:"
   ]
  },
  {
   "cell_type": "code",
   "execution_count": 107,
   "metadata": {
    "ExecuteTime": {
     "end_time": "2019-12-13T04:37:39.860523Z",
     "start_time": "2019-12-13T04:37:39.552348Z"
    }
   },
   "outputs": [
    {
     "data": {
      "text/plain": [
       "2838"
      ]
     },
     "execution_count": 107,
     "metadata": {},
     "output_type": "execute_result"
    }
   ],
   "source": [
    "del sales, test, monthly_sales, test_mod\n",
    "gc.collect()"
   ]
  },
  {
   "cell_type": "markdown",
   "metadata": {},
   "source": [
    "# Lags"
   ]
  },
  {
   "cell_type": "markdown",
   "metadata": {},
   "source": [
    "Adding lags from the features that we created on the last section."
   ]
  },
  {
   "cell_type": "markdown",
   "metadata": {},
   "source": [
    "https://stackoverflow.com/questions/52693482/merging-pandas-data-frames-uses-way-too-much-memory"
   ]
  },
  {
   "cell_type": "code",
   "execution_count": 108,
   "metadata": {
    "ExecuteTime": {
     "end_time": "2019-12-13T04:37:39.871528Z",
     "start_time": "2019-12-13T04:37:39.861522Z"
    }
   },
   "outputs": [],
   "source": [
    "def lag_features(df, lags, group_cols, shift_col):\n",
    "    \"\"\"\n",
    "    Arguments:\n",
    "        df (pd.DataFrame)\n",
    "        lags (list((int)): the number of months to lag by\n",
    "        group_cols (list(str)): the list of columns that need to be the merged key\n",
    "        shift_col (str): the column name that is to be shifted by\n",
    "    \"\"\"\n",
    "\n",
    "    for lag in lags:\n",
    "        new_col = '{0}_lag_{1}'.format(shift_col, lag)\n",
    "        df[new_col] = df.groupby(group_cols)[shift_col].shift(lag)\n",
    "\n",
    "    return df"
   ]
  },
  {
   "cell_type": "markdown",
   "metadata": {},
   "source": [
    "## Features with Several Lags:"
   ]
  },
  {
   "cell_type": "markdown",
   "metadata": {},
   "source": [
    "Target, Target-Month-Shop and Target-Month-Item:"
   ]
  },
  {
   "cell_type": "code",
   "execution_count": 109,
   "metadata": {
    "ExecuteTime": {
     "end_time": "2019-12-13T04:37:55.148731Z",
     "start_time": "2019-12-13T04:37:39.873490Z"
    }
   },
   "outputs": [],
   "source": [
    "lags = [1, 2, 3, 6, 12]\n",
    "group_cols = ['shop_id', 'item_id']\n",
    "order_col = 'date_block_num'\n",
    "\n",
    "data = data.sort_values(by=group_cols+[order_col], ascending=True)\n",
    "data = lag_features(data, lags, group_cols, 'target')"
   ]
  },
  {
   "cell_type": "code",
   "execution_count": 110,
   "metadata": {
    "ExecuteTime": {
     "end_time": "2019-12-13T04:38:04.343685Z",
     "start_time": "2019-12-13T04:37:55.150726Z"
    }
   },
   "outputs": [],
   "source": [
    "data = lag_features(data, lags, group_cols, 'target_month_item')"
   ]
  },
  {
   "cell_type": "code",
   "execution_count": 111,
   "metadata": {
    "ExecuteTime": {
     "end_time": "2019-12-13T04:38:13.740691Z",
     "start_time": "2019-12-13T04:38:04.345681Z"
    }
   },
   "outputs": [],
   "source": [
    "data = lag_features(data, lags, group_cols, 'target_month_shop')"
   ]
  },
  {
   "cell_type": "markdown",
   "metadata": {},
   "source": [
    "## Features with One Lag:"
   ]
  },
  {
   "cell_type": "markdown",
   "metadata": {},
   "source": [
    "For all the other mean-encoded features, we will use one lag only:"
   ]
  },
  {
   "cell_type": "code",
   "execution_count": 112,
   "metadata": {
    "ExecuteTime": {
     "end_time": "2019-12-13T04:38:13.746675Z",
     "start_time": "2019-12-13T04:38:13.742686Z"
    }
   },
   "outputs": [],
   "source": [
    "one_lag_columns = [col for col in target_columns if col not in ['target', 'target_month_item', 'target_month_shop']]"
   ]
  },
  {
   "cell_type": "code",
   "execution_count": 113,
   "metadata": {
    "ExecuteTime": {
     "end_time": "2019-12-13T04:38:31.850260Z",
     "start_time": "2019-12-13T04:38:13.748670Z"
    }
   },
   "outputs": [],
   "source": [
    "for col in one_lag_columns:\n",
    "    data = lag_features(data, [1], group_cols, col)"
   ]
  },
  {
   "cell_type": "markdown",
   "metadata": {},
   "source": [
    "Removing data from before month 12 (we only have data for all lags starting from month 13):"
   ]
  },
  {
   "cell_type": "code",
   "execution_count": 114,
   "metadata": {
    "ExecuteTime": {
     "end_time": "2019-12-13T04:38:34.132192Z",
     "start_time": "2019-12-13T04:38:31.852255Z"
    }
   },
   "outputs": [],
   "source": [
    "data = data[data['date_block_num'] >= 12]"
   ]
  },
  {
   "cell_type": "code",
   "execution_count": 115,
   "metadata": {
    "ExecuteTime": {
     "end_time": "2019-12-13T04:38:34.166067Z",
     "start_time": "2019-12-13T04:38:34.134153Z"
    }
   },
   "outputs": [],
   "source": [
    "y = data[['target', 'date_block_num']]"
   ]
  },
  {
   "cell_type": "markdown",
   "metadata": {},
   "source": [
    "Dropping columns with mean-encoding (to avoid data leakage):"
   ]
  },
  {
   "cell_type": "code",
   "execution_count": 116,
   "metadata": {
    "ExecuteTime": {
     "end_time": "2019-12-13T04:38:34.736540Z",
     "start_time": "2019-12-13T04:38:34.168062Z"
    }
   },
   "outputs": [],
   "source": [
    "data.drop(columns=target_columns, inplace=True)"
   ]
  },
  {
   "cell_type": "code",
   "execution_count": 117,
   "metadata": {
    "ExecuteTime": {
     "end_time": "2019-12-13T04:38:34.780583Z",
     "start_time": "2019-12-13T04:38:34.737538Z"
    }
   },
   "outputs": [
    {
     "data": {
      "text/plain": [
       "20"
      ]
     },
     "execution_count": 117,
     "metadata": {},
     "output_type": "execute_result"
    }
   ],
   "source": [
    "gc.collect()"
   ]
  },
  {
   "cell_type": "markdown",
   "metadata": {},
   "source": [
    "There are a lot o NA's on the lags (remember, not every store sells every item every month, for example). We fill these with 0 (no sales for that combination on the corresponding lag)."
   ]
  },
  {
   "cell_type": "code",
   "execution_count": 118,
   "metadata": {
    "ExecuteTime": {
     "end_time": "2019-12-13T04:38:35.464624Z",
     "start_time": "2019-12-13T04:38:34.782419Z"
    }
   },
   "outputs": [],
   "source": [
    "data = data.fillna(0)"
   ]
  },
  {
   "cell_type": "markdown",
   "metadata": {},
   "source": [
    "# Train/Validation/Test splits"
   ]
  },
  {
   "cell_type": "markdown",
   "metadata": {},
   "source": [
    "We do a time series split in this case: last month is the test set, the one before will be used for validation and everything else will be used on model training:"
   ]
  },
  {
   "cell_type": "code",
   "execution_count": 119,
   "metadata": {
    "ExecuteTime": {
     "end_time": "2019-12-13T04:38:36.857954Z",
     "start_time": "2019-12-13T04:38:35.466589Z"
    }
   },
   "outputs": [],
   "source": [
    "X_train = data.loc[data['date_block_num'] <= 32].drop(columns=['date_block_num'])\n",
    "X_valid = data.loc[data['date_block_num'] == 33].drop(columns=['date_block_num'])\n",
    "X_test = data.loc[data['date_block_num'] == 34].drop(columns=['date_block_num'])\n",
    "\n",
    "y_train = y.loc[y['date_block_num'] <= 32, 'target'].values\n",
    "y_valid = y.loc[y['date_block_num'] == 33, 'target'].values"
   ]
  },
  {
   "cell_type": "markdown",
   "metadata": {},
   "source": [
    "# Models"
   ]
  },
  {
   "cell_type": "markdown",
   "metadata": {},
   "source": [
    "We start with two models: linear regression and lightgbm."
   ]
  },
  {
   "cell_type": "markdown",
   "metadata": {},
   "source": [
    "## Linear Model"
   ]
  },
  {
   "cell_type": "markdown",
   "metadata": {},
   "source": [
    "We do the linear regression without regularization. This model is simply a benchmark and we expect it adds some value on the model stacking (next section)."
   ]
  },
  {
   "cell_type": "code",
   "execution_count": 120,
   "metadata": {
    "ExecuteTime": {
     "end_time": "2019-12-13T04:41:53.131978Z",
     "start_time": "2019-12-13T04:41:53.126991Z"
    }
   },
   "outputs": [],
   "source": [
    "lr = LinearRegression()"
   ]
  },
  {
   "cell_type": "code",
   "execution_count": 121,
   "metadata": {
    "ExecuteTime": {
     "end_time": "2019-12-13T04:41:59.661598Z",
     "start_time": "2019-12-13T04:41:53.134970Z"
    }
   },
   "outputs": [
    {
     "data": {
      "text/plain": [
       "LinearRegression(copy_X=True, fit_intercept=True, n_jobs=None, normalize=False)"
      ]
     },
     "execution_count": 121,
     "metadata": {},
     "output_type": "execute_result"
    }
   ],
   "source": [
    "# remember to scale data when adding regularization\n",
    "lr.fit(X_train, y_train)"
   ]
  },
  {
   "cell_type": "code",
   "execution_count": 122,
   "metadata": {
    "ExecuteTime": {
     "end_time": "2019-12-13T04:41:59.721437Z",
     "start_time": "2019-12-13T04:41:59.663592Z"
    }
   },
   "outputs": [],
   "source": [
    "y_valid_predict_lr = lr.predict(X_valid).clip(0, 20)"
   ]
  },
  {
   "cell_type": "code",
   "execution_count": 123,
   "metadata": {
    "ExecuteTime": {
     "end_time": "2019-12-13T04:41:59.735401Z",
     "start_time": "2019-12-13T04:41:59.723433Z"
    }
   },
   "outputs": [
    {
     "data": {
      "text/plain": [
       "0.9672958583526293"
      ]
     },
     "execution_count": 123,
     "metadata": {},
     "output_type": "execute_result"
    }
   ],
   "source": [
    "np.sqrt(np.mean((y_valid_predict_lr - y_valid.clip(0, 20))**2))"
   ]
  },
  {
   "cell_type": "markdown",
   "metadata": {},
   "source": [
    "## LightGBM"
   ]
  },
  {
   "cell_type": "markdown",
   "metadata": {},
   "source": [
    "Now the lightgbm model:"
   ]
  },
  {
   "cell_type": "code",
   "execution_count": 124,
   "metadata": {
    "ExecuteTime": {
     "end_time": "2019-12-13T05:05:08.744401Z",
     "start_time": "2019-12-13T05:05:08.739415Z"
    }
   },
   "outputs": [],
   "source": [
    "lgb_params = { 'max_depth':5,\n",
    "               'feature_fraction': 0.75,\n",
    "               'metric': 'rmse',\n",
    "               'nthread':1, \n",
    "               'min_data_in_leaf': 2**7, \n",
    "               'bagging_fraction': 0.75, \n",
    "               'learning_rate': 0.03, \n",
    "               'objective': 'mse', \n",
    "               'bagging_seed': 2**7, \n",
    "               'num_leaves': 40,\n",
    "               'bagging_freq':1,\n",
    "               'verbose':0 \n",
    "              }"
   ]
  },
  {
   "cell_type": "code",
   "execution_count": 125,
   "metadata": {
    "ExecuteTime": {
     "end_time": "2019-12-13T05:05:08.770330Z",
     "start_time": "2019-12-13T05:05:08.746395Z"
    }
   },
   "outputs": [],
   "source": [
    "dtrain = lightgbm.Dataset(X_train, label=y_train.clip(0,20))\n",
    "dvalid = lightgbm.Dataset(X_valid, label=y_valid.clip(0,20))"
   ]
  },
  {
   "cell_type": "code",
   "execution_count": 126,
   "metadata": {
    "ExecuteTime": {
     "end_time": "2019-12-13T05:05:08.776315Z",
     "start_time": "2019-12-13T05:05:08.772325Z"
    }
   },
   "outputs": [],
   "source": [
    "eval_results = {}"
   ]
  },
  {
   "cell_type": "code",
   "execution_count": 127,
   "metadata": {
    "ExecuteTime": {
     "end_time": "2019-12-13T05:07:15.206784Z",
     "start_time": "2019-12-13T05:05:08.777312Z"
    }
   },
   "outputs": [
    {
     "name": "stdout",
     "output_type": "stream",
     "text": [
      "[1]\ttrain's rmse: 1.17424\tvalid's rmse: 1.12638\n",
      "Training until validation scores don't improve for 10 rounds\n",
      "[2]\ttrain's rmse: 1.16233\tvalid's rmse: 1.1183\n",
      "[3]\ttrain's rmse: 1.15084\tvalid's rmse: 1.11012\n",
      "[4]\ttrain's rmse: 1.13911\tvalid's rmse: 1.10196\n",
      "[5]\ttrain's rmse: 1.1271\tvalid's rmse: 1.09348\n",
      "[6]\ttrain's rmse: 1.1157\tvalid's rmse: 1.08547\n",
      "[7]\ttrain's rmse: 1.10482\tvalid's rmse: 1.07792\n",
      "[8]\ttrain's rmse: 1.09449\tvalid's rmse: 1.07067\n",
      "[9]\ttrain's rmse: 1.0847\tvalid's rmse: 1.06385\n",
      "[10]\ttrain's rmse: 1.07545\tvalid's rmse: 1.05759\n",
      "[11]\ttrain's rmse: 1.06729\tvalid's rmse: 1.05218\n",
      "[12]\ttrain's rmse: 1.05864\tvalid's rmse: 1.04639\n",
      "[13]\ttrain's rmse: 1.05053\tvalid's rmse: 1.04107\n",
      "[14]\ttrain's rmse: 1.04312\tvalid's rmse: 1.03621\n",
      "[15]\ttrain's rmse: 1.0357\tvalid's rmse: 1.03142\n",
      "[16]\ttrain's rmse: 1.02868\tvalid's rmse: 1.02694\n",
      "[17]\ttrain's rmse: 1.02201\tvalid's rmse: 1.02262\n",
      "[18]\ttrain's rmse: 1.01594\tvalid's rmse: 1.01868\n",
      "[19]\ttrain's rmse: 1.00991\tvalid's rmse: 1.01478\n",
      "[20]\ttrain's rmse: 1.00414\tvalid's rmse: 1.01115\n",
      "[21]\ttrain's rmse: 0.998684\tvalid's rmse: 1.00769\n",
      "[22]\ttrain's rmse: 0.993354\tvalid's rmse: 1.00449\n",
      "[23]\ttrain's rmse: 0.988447\tvalid's rmse: 1.00148\n",
      "[24]\ttrain's rmse: 0.98367\tvalid's rmse: 0.998622\n",
      "[25]\ttrain's rmse: 0.979215\tvalid's rmse: 0.995856\n",
      "[26]\ttrain's rmse: 0.974862\tvalid's rmse: 0.993274\n",
      "[27]\ttrain's rmse: 0.970817\tvalid's rmse: 0.990936\n",
      "[28]\ttrain's rmse: 0.966914\tvalid's rmse: 0.988575\n",
      "[29]\ttrain's rmse: 0.963095\tvalid's rmse: 0.986332\n",
      "[30]\ttrain's rmse: 0.959445\tvalid's rmse: 0.984283\n",
      "[31]\ttrain's rmse: 0.956116\tvalid's rmse: 0.98235\n",
      "[32]\ttrain's rmse: 0.952805\tvalid's rmse: 0.980555\n",
      "[33]\ttrain's rmse: 0.949748\tvalid's rmse: 0.978739\n",
      "[34]\ttrain's rmse: 0.94686\tvalid's rmse: 0.977119\n",
      "[35]\ttrain's rmse: 0.944033\tvalid's rmse: 0.975462\n",
      "[36]\ttrain's rmse: 0.941316\tvalid's rmse: 0.973859\n",
      "[37]\ttrain's rmse: 0.938817\tvalid's rmse: 0.972494\n",
      "[38]\ttrain's rmse: 0.936357\tvalid's rmse: 0.971179\n",
      "[39]\ttrain's rmse: 0.934023\tvalid's rmse: 0.969985\n",
      "[40]\ttrain's rmse: 0.931794\tvalid's rmse: 0.968866\n",
      "[41]\ttrain's rmse: 0.929633\tvalid's rmse: 0.967823\n",
      "[42]\ttrain's rmse: 0.927692\tvalid's rmse: 0.966862\n",
      "[43]\ttrain's rmse: 0.925748\tvalid's rmse: 0.965706\n",
      "[44]\ttrain's rmse: 0.923926\tvalid's rmse: 0.964783\n",
      "[45]\ttrain's rmse: 0.922124\tvalid's rmse: 0.963906\n",
      "[46]\ttrain's rmse: 0.920432\tvalid's rmse: 0.962947\n",
      "[47]\ttrain's rmse: 0.918831\tvalid's rmse: 0.962206\n",
      "[48]\ttrain's rmse: 0.917259\tvalid's rmse: 0.961688\n",
      "[49]\ttrain's rmse: 0.915766\tvalid's rmse: 0.961047\n",
      "[50]\ttrain's rmse: 0.914384\tvalid's rmse: 0.960424\n",
      "[51]\ttrain's rmse: 0.91302\tvalid's rmse: 0.959775\n",
      "[52]\ttrain's rmse: 0.911802\tvalid's rmse: 0.959254\n",
      "[53]\ttrain's rmse: 0.910561\tvalid's rmse: 0.958633\n",
      "[54]\ttrain's rmse: 0.909425\tvalid's rmse: 0.9581\n",
      "[55]\ttrain's rmse: 0.90822\tvalid's rmse: 0.957571\n",
      "[56]\ttrain's rmse: 0.907126\tvalid's rmse: 0.957153\n",
      "[57]\ttrain's rmse: 0.906068\tvalid's rmse: 0.956666\n",
      "[58]\ttrain's rmse: 0.905056\tvalid's rmse: 0.956388\n",
      "[59]\ttrain's rmse: 0.903896\tvalid's rmse: 0.955585\n",
      "[60]\ttrain's rmse: 0.903017\tvalid's rmse: 0.955326\n",
      "[61]\ttrain's rmse: 0.902099\tvalid's rmse: 0.954978\n",
      "[62]\ttrain's rmse: 0.90126\tvalid's rmse: 0.954602\n",
      "[63]\ttrain's rmse: 0.900419\tvalid's rmse: 0.954299\n",
      "[64]\ttrain's rmse: 0.899613\tvalid's rmse: 0.954085\n",
      "[65]\ttrain's rmse: 0.898823\tvalid's rmse: 0.953809\n",
      "[66]\ttrain's rmse: 0.897911\tvalid's rmse: 0.953359\n",
      "[67]\ttrain's rmse: 0.897222\tvalid's rmse: 0.953074\n",
      "[68]\ttrain's rmse: 0.896561\tvalid's rmse: 0.952967\n",
      "[69]\ttrain's rmse: 0.895835\tvalid's rmse: 0.952738\n",
      "[70]\ttrain's rmse: 0.895182\tvalid's rmse: 0.952528\n",
      "[71]\ttrain's rmse: 0.894505\tvalid's rmse: 0.952333\n",
      "[72]\ttrain's rmse: 0.893936\tvalid's rmse: 0.952084\n",
      "[73]\ttrain's rmse: 0.893229\tvalid's rmse: 0.951686\n",
      "[74]\ttrain's rmse: 0.892672\tvalid's rmse: 0.951555\n",
      "[75]\ttrain's rmse: 0.892138\tvalid's rmse: 0.951447\n",
      "[76]\ttrain's rmse: 0.891513\tvalid's rmse: 0.951183\n",
      "[77]\ttrain's rmse: 0.890907\tvalid's rmse: 0.950856\n",
      "[78]\ttrain's rmse: 0.890389\tvalid's rmse: 0.950693\n",
      "[79]\ttrain's rmse: 0.889746\tvalid's rmse: 0.950412\n",
      "[80]\ttrain's rmse: 0.889144\tvalid's rmse: 0.950188\n",
      "[81]\ttrain's rmse: 0.888656\tvalid's rmse: 0.949965\n",
      "[82]\ttrain's rmse: 0.888165\tvalid's rmse: 0.949819\n",
      "[83]\ttrain's rmse: 0.887493\tvalid's rmse: 0.949262\n",
      "[84]\ttrain's rmse: 0.887119\tvalid's rmse: 0.949119\n",
      "[85]\ttrain's rmse: 0.886648\tvalid's rmse: 0.948872\n",
      "[86]\ttrain's rmse: 0.886273\tvalid's rmse: 0.94877\n",
      "[87]\ttrain's rmse: 0.885871\tvalid's rmse: 0.948711\n",
      "[88]\ttrain's rmse: 0.885501\tvalid's rmse: 0.948638\n",
      "[89]\ttrain's rmse: 0.884973\tvalid's rmse: 0.948466\n",
      "[90]\ttrain's rmse: 0.884576\tvalid's rmse: 0.948495\n",
      "[91]\ttrain's rmse: 0.884257\tvalid's rmse: 0.948382\n",
      "[92]\ttrain's rmse: 0.883955\tvalid's rmse: 0.948287\n",
      "[93]\ttrain's rmse: 0.883574\tvalid's rmse: 0.948202\n",
      "[94]\ttrain's rmse: 0.883253\tvalid's rmse: 0.9482\n",
      "[95]\ttrain's rmse: 0.882883\tvalid's rmse: 0.948211\n",
      "[96]\ttrain's rmse: 0.882573\tvalid's rmse: 0.94815\n",
      "[97]\ttrain's rmse: 0.882201\tvalid's rmse: 0.947939\n",
      "[98]\ttrain's rmse: 0.881944\tvalid's rmse: 0.947866\n",
      "[99]\ttrain's rmse: 0.881648\tvalid's rmse: 0.947905\n",
      "[100]\ttrain's rmse: 0.881272\tvalid's rmse: 0.947893\n",
      "[101]\ttrain's rmse: 0.880786\tvalid's rmse: 0.947789\n",
      "[102]\ttrain's rmse: 0.880553\tvalid's rmse: 0.947759\n",
      "[103]\ttrain's rmse: 0.88025\tvalid's rmse: 0.947659\n",
      "[104]\ttrain's rmse: 0.88001\tvalid's rmse: 0.947664\n",
      "[105]\ttrain's rmse: 0.879784\tvalid's rmse: 0.947601\n",
      "[106]\ttrain's rmse: 0.879554\tvalid's rmse: 0.947619\n",
      "[107]\ttrain's rmse: 0.879342\tvalid's rmse: 0.947618\n",
      "[108]\ttrain's rmse: 0.878986\tvalid's rmse: 0.947634\n",
      "[109]\ttrain's rmse: 0.878666\tvalid's rmse: 0.947535\n",
      "[110]\ttrain's rmse: 0.878394\tvalid's rmse: 0.947534\n",
      "[111]\ttrain's rmse: 0.878135\tvalid's rmse: 0.947533\n",
      "[112]\ttrain's rmse: 0.877851\tvalid's rmse: 0.947519\n",
      "[113]\ttrain's rmse: 0.877647\tvalid's rmse: 0.947527\n",
      "[114]\ttrain's rmse: 0.877364\tvalid's rmse: 0.947566\n",
      "[115]\ttrain's rmse: 0.877108\tvalid's rmse: 0.947484\n",
      "[116]\ttrain's rmse: 0.876894\tvalid's rmse: 0.947466\n",
      "[117]\ttrain's rmse: 0.876695\tvalid's rmse: 0.947402\n",
      "[118]\ttrain's rmse: 0.87641\tvalid's rmse: 0.947385\n",
      "[119]\ttrain's rmse: 0.876192\tvalid's rmse: 0.947333\n",
      "[120]\ttrain's rmse: 0.875978\tvalid's rmse: 0.947293\n",
      "[121]\ttrain's rmse: 0.875786\tvalid's rmse: 0.947416\n",
      "[122]\ttrain's rmse: 0.875603\tvalid's rmse: 0.947493\n",
      "[123]\ttrain's rmse: 0.875303\tvalid's rmse: 0.947474\n",
      "[124]\ttrain's rmse: 0.875027\tvalid's rmse: 0.947596\n",
      "[125]\ttrain's rmse: 0.874782\tvalid's rmse: 0.94752\n",
      "[126]\ttrain's rmse: 0.874651\tvalid's rmse: 0.947548\n",
      "[127]\ttrain's rmse: 0.874369\tvalid's rmse: 0.947543\n",
      "[128]\ttrain's rmse: 0.874225\tvalid's rmse: 0.947555\n",
      "[129]\ttrain's rmse: 0.874016\tvalid's rmse: 0.947572\n",
      "[130]\ttrain's rmse: 0.873891\tvalid's rmse: 0.947556\n",
      "Early stopping, best iteration is:\n",
      "[120]\ttrain's rmse: 0.875978\tvalid's rmse: 0.947293\n"
     ]
    }
   ],
   "source": [
    "model = lightgbm.train(lgb_params,\n",
    "                       dtrain,\n",
    "                       valid_sets=[dtrain,dvalid],\n",
    "                       valid_names=['train', 'valid'],\n",
    "                       evals_result=eval_results,\n",
    "                       num_boost_round=200,\n",
    "                       early_stopping_rounds=10,\n",
    "                       verbose_eval=True)"
   ]
  },
  {
   "cell_type": "markdown",
   "metadata": {},
   "source": [
    "Performance improves:"
   ]
  },
  {
   "cell_type": "code",
   "execution_count": 130,
   "metadata": {
    "ExecuteTime": {
     "end_time": "2019-12-13T05:08:13.654517Z",
     "start_time": "2019-12-13T05:08:11.951048Z"
    }
   },
   "outputs": [],
   "source": [
    "y_valid_predict_lgbm = model.predict(X_valid).clip(0, 20)"
   ]
  },
  {
   "cell_type": "code",
   "execution_count": 131,
   "metadata": {
    "ExecuteTime": {
     "end_time": "2019-12-13T05:08:13.664465Z",
     "start_time": "2019-12-13T05:08:13.655489Z"
    }
   },
   "outputs": [
    {
     "data": {
      "text/plain": [
       "0.9472926793913473"
      ]
     },
     "execution_count": 131,
     "metadata": {},
     "output_type": "execute_result"
    }
   ],
   "source": [
    "np.sqrt(np.mean((y_valid_predict_lgbm - y_valid.clip(0, 20))**2))"
   ]
  },
  {
   "cell_type": "markdown",
   "metadata": {},
   "source": [
    "# Stacking"
   ]
  },
  {
   "cell_type": "markdown",
   "metadata": {},
   "source": [
    "Let's try using stacking to see if this improve our performance. We get the dates for train, validation, and test set. These will be useful for computations."
   ]
  },
  {
   "cell_type": "code",
   "execution_count": 132,
   "metadata": {
    "ExecuteTime": {
     "end_time": "2019-12-13T05:08:18.181458Z",
     "start_time": "2019-12-13T05:08:18.052735Z"
    }
   },
   "outputs": [],
   "source": [
    "dates_train = data.loc[data['date_block_num'] <= 32, 'date_block_num']\n",
    "dates_valid = data.loc[data['date_block_num'] == 33, 'date_block_num']\n",
    "dates_test = data.loc[data['date_block_num'] == 34, 'date_block_num']"
   ]
  },
  {
   "cell_type": "markdown",
   "metadata": {},
   "source": [
    "## Validation meta-features:"
   ]
  },
  {
   "cell_type": "markdown",
   "metadata": {},
   "source": [
    "Calculating the validation meta-features:"
   ]
  },
  {
   "cell_type": "code",
   "execution_count": 133,
   "metadata": {
    "ExecuteTime": {
     "end_time": "2019-12-13T05:08:20.483389Z",
     "start_time": "2019-12-13T05:08:20.399613Z"
    }
   },
   "outputs": [],
   "source": [
    "pred_lr = lr.predict(X_valid.fillna(0)).clip(0,20)"
   ]
  },
  {
   "cell_type": "code",
   "execution_count": 134,
   "metadata": {
    "ExecuteTime": {
     "end_time": "2019-12-13T05:08:22.268171Z",
     "start_time": "2019-12-13T05:08:20.485384Z"
    }
   },
   "outputs": [],
   "source": [
    "pred_lgb = model.predict(X_valid).clip(0, 20)"
   ]
  },
  {
   "cell_type": "code",
   "execution_count": 135,
   "metadata": {
    "ExecuteTime": {
     "end_time": "2019-12-13T05:08:22.275154Z",
     "start_time": "2019-12-13T05:08:22.270135Z"
    }
   },
   "outputs": [],
   "source": [
    "X_valid_level2 = np.c_[pred_lr, pred_lgb]"
   ]
  },
  {
   "cell_type": "markdown",
   "metadata": {},
   "source": [
    "## Train meta-features:"
   ]
  },
  {
   "cell_type": "markdown",
   "metadata": {},
   "source": [
    "Train meta-features using times series scheme:"
   ]
  },
  {
   "cell_type": "code",
   "execution_count": 136,
   "metadata": {
    "ExecuteTime": {
     "end_time": "2019-12-13T05:08:29.676035Z",
     "start_time": "2019-12-13T05:08:29.437565Z"
    }
   },
   "outputs": [],
   "source": [
    "dates_train_level2 = dates_train[dates_train.isin([27, 28, 29, 30, 31, 32])]\n",
    "\n",
    "y_train_level2 = y_train[dates_train.isin([27, 28, 29, 30, 31, 32])].clip(0,20)"
   ]
  },
  {
   "cell_type": "code",
   "execution_count": 137,
   "metadata": {
    "ExecuteTime": {
     "end_time": "2019-12-13T05:18:25.448232Z",
     "start_time": "2019-12-13T05:08:37.991251Z"
    }
   },
   "outputs": [
    {
     "name": "stdout",
     "output_type": "stream",
     "text": [
      "27\n",
      "28\n",
      "29\n",
      "30\n",
      "31\n",
      "32\n"
     ]
    }
   ],
   "source": [
    "# And here we create 2nd level feeature matrix, init it with zeros first\n",
    "X_train_level2 = np.zeros([y_train_level2.shape[0], 2])\n",
    "y_train_with_index = pd.Series(data=y_train, index=X_train.index)\n",
    "\n",
    "# Now fill `X_train_level2` with metafeatures\n",
    "for cur_block_num in [27, 28, 29, 30, 31, 32]:\n",
    "    \n",
    "    print(cur_block_num)\n",
    "    \n",
    "    train_indeces = dates_train[dates_train < cur_block_num].index\n",
    "    valid_indeces = dates_train[dates_train == cur_block_num].index \n",
    "    \n",
    "    cur_X_train = X_train.loc[train_indeces]\n",
    "    cur_y_train = y_train_with_index.loc[train_indeces]\n",
    "    \n",
    "    lr.fit(cur_X_train.fillna(0), cur_y_train)\n",
    "    model = lightgbm.train(lgb_params, lightgbm.Dataset(cur_X_train, \n",
    "                                              label=cur_y_train), 100)\n",
    "    \n",
    "    cur_X_valid = X_train.loc[valid_indeces]\n",
    "    \n",
    "     \n",
    "    X_train_level2[np.where(dates_train_level2==cur_block_num) , 0] = lr.predict(cur_X_valid.fillna(0)).clip(0,20)\n",
    "    X_train_level2[np.where(dates_train_level2==cur_block_num) , 1] = model.predict(cur_X_valid).clip(0,20)"
   ]
  },
  {
   "cell_type": "markdown",
   "metadata": {},
   "source": [
    "## Simple Convex Mix"
   ]
  },
  {
   "cell_type": "markdown",
   "metadata": {},
   "source": [
    "Let's find an optimal alpha for a convex mix using the training set and evaluate performance on the validation set:"
   ]
  },
  {
   "cell_type": "code",
   "execution_count": 179,
   "metadata": {
    "ExecuteTime": {
     "end_time": "2019-12-13T13:00:20.009053Z",
     "start_time": "2019-12-13T13:00:20.006087Z"
    }
   },
   "outputs": [],
   "source": [
    "alphas_to_try = np.linspace(0, 1, 1001)"
   ]
  },
  {
   "cell_type": "code",
   "execution_count": 180,
   "metadata": {
    "ExecuteTime": {
     "end_time": "2019-12-13T13:00:57.608058Z",
     "start_time": "2019-12-13T13:00:20.011042Z"
    }
   },
   "outputs": [],
   "source": [
    "rmse_scores = [np.sqrt(mean_squared_error(y_train_level2, alpha*X_train_level2[:, 0]+(1-alpha)*X_train_level2[:, 1])) for alpha in alphas_to_try]"
   ]
  },
  {
   "cell_type": "code",
   "execution_count": 181,
   "metadata": {
    "ExecuteTime": {
     "end_time": "2019-12-13T13:00:57.615040Z",
     "start_time": "2019-12-13T13:00:57.610053Z"
    }
   },
   "outputs": [],
   "source": [
    "best_alpha = alphas_to_try[np.argmin(rmse_scores)]"
   ]
  },
  {
   "cell_type": "code",
   "execution_count": 182,
   "metadata": {
    "ExecuteTime": {
     "end_time": "2019-12-13T13:05:08.570326Z",
     "start_time": "2019-12-13T13:05:08.567339Z"
    }
   },
   "outputs": [],
   "source": [
    "rmse_train_simple_mix = np.max(rmse_scores)"
   ]
  },
  {
   "cell_type": "code",
   "execution_count": 183,
   "metadata": {
    "ExecuteTime": {
     "end_time": "2019-12-13T13:05:12.891530Z",
     "start_time": "2019-12-13T13:05:12.885546Z"
    }
   },
   "outputs": [
    {
     "data": {
      "text/plain": [
       "0.8571546901433138"
      ]
     },
     "execution_count": 183,
     "metadata": {},
     "output_type": "execute_result"
    }
   ],
   "source": [
    "rmse_train_simple_mix"
   ]
  },
  {
   "cell_type": "code",
   "execution_count": 207,
   "metadata": {
    "ExecuteTime": {
     "end_time": "2019-12-13T13:28:12.945473Z",
     "start_time": "2019-12-13T13:28:12.935718Z"
    }
   },
   "outputs": [],
   "source": [
    "#np.save(os.path.join(DATA_FOLDER, 'best_alpha'), np.array(best_alpha))"
   ]
  },
  {
   "cell_type": "code",
   "execution_count": 212,
   "metadata": {
    "ExecuteTime": {
     "end_time": "2019-12-13T13:28:38.381149Z",
     "start_time": "2019-12-13T13:28:38.376136Z"
    }
   },
   "outputs": [],
   "source": [
    "a=np.load(os.path.join(DATA_FOLDER, 'best_alpha.npy'))"
   ]
  },
  {
   "cell_type": "markdown",
   "metadata": {},
   "source": [
    "Evaluating on the validation set:"
   ]
  },
  {
   "cell_type": "code",
   "execution_count": 144,
   "metadata": {
    "ExecuteTime": {
     "end_time": "2019-12-13T05:19:24.245161Z",
     "start_time": "2019-12-13T05:19:24.227211Z"
    }
   },
   "outputs": [],
   "source": [
    "valid_preds = best_alpha*X_valid_level2[:, 0]+(1-best_alpha)*X_valid_level2[:, 1]"
   ]
  },
  {
   "cell_type": "code",
   "execution_count": 145,
   "metadata": {
    "ExecuteTime": {
     "end_time": "2019-12-13T05:19:24.260122Z",
     "start_time": "2019-12-13T05:19:24.248157Z"
    }
   },
   "outputs": [],
   "source": [
    "rmse_valid_simple_mix = np.sqrt(mean_squared_error(y_valid.clip(0,20), valid_preds))"
   ]
  },
  {
   "cell_type": "code",
   "execution_count": 146,
   "metadata": {
    "ExecuteTime": {
     "end_time": "2019-12-13T05:19:24.272089Z",
     "start_time": "2019-12-13T05:19:24.265108Z"
    }
   },
   "outputs": [
    {
     "data": {
      "text/plain": [
       "0.9472926793913473"
      ]
     },
     "execution_count": 146,
     "metadata": {},
     "output_type": "execute_result"
    }
   ],
   "source": [
    "rmse_valid_simple_mix"
   ]
  },
  {
   "cell_type": "markdown",
   "metadata": {},
   "source": [
    "# Final Prediction and Submission:"
   ]
  },
  {
   "cell_type": "markdown",
   "metadata": {},
   "source": [
    "Loading Training Serialized Models:"
   ]
  },
  {
   "cell_type": "code",
   "execution_count": 229,
   "metadata": {
    "ExecuteTime": {
     "end_time": "2019-12-13T13:33:29.174002Z",
     "start_time": "2019-12-13T13:33:29.169017Z"
    }
   },
   "outputs": [],
   "source": [
    "lr = joblib.load(os.path.join(DATA_FOLDER, 'lr_trained_model'))"
   ]
  },
  {
   "cell_type": "code",
   "execution_count": 220,
   "metadata": {
    "ExecuteTime": {
     "end_time": "2019-12-13T13:29:40.023517Z",
     "start_time": "2019-12-13T13:29:40.011550Z"
    }
   },
   "outputs": [],
   "source": [
    "model = joblib.load(os.path.join(DATA_FOLDER, 'lgb_trained_model'))"
   ]
  },
  {
   "cell_type": "code",
   "execution_count": 221,
   "metadata": {
    "ExecuteTime": {
     "end_time": "2019-12-13T13:29:40.028503Z",
     "start_time": "2019-12-13T13:29:40.024536Z"
    }
   },
   "outputs": [],
   "source": [
    "best_alpha = np.load(os.path.join(DATA_FOLDER, 'best_alpha.npy'))"
   ]
  },
  {
   "cell_type": "markdown",
   "metadata": {},
   "source": [
    "Fitting both models on train + validation data:"
   ]
  },
  {
   "cell_type": "code",
   "execution_count": 222,
   "metadata": {
    "ExecuteTime": {
     "end_time": "2019-12-13T13:29:53.693376Z",
     "start_time": "2019-12-13T13:29:53.298299Z"
    }
   },
   "outputs": [],
   "source": [
    "X = pd.concat((X_train, X_valid), axis=0)"
   ]
  },
  {
   "cell_type": "code",
   "execution_count": 223,
   "metadata": {
    "ExecuteTime": {
     "end_time": "2019-12-13T13:29:53.711328Z",
     "start_time": "2019-12-13T13:29:53.697365Z"
    }
   },
   "outputs": [],
   "source": [
    "y = np.concatenate((y_train, y_valid))"
   ]
  },
  {
   "cell_type": "markdown",
   "metadata": {},
   "source": [
    "Linear Regression Model:"
   ]
  },
  {
   "cell_type": "code",
   "execution_count": 191,
   "metadata": {
    "ExecuteTime": {
     "end_time": "2019-12-13T13:25:16.905921Z",
     "start_time": "2019-12-13T13:25:16.902928Z"
    }
   },
   "outputs": [],
   "source": [
    "### skip this section when using serialized models\n",
    "#lr.fit(X.fillna(0), y)\n",
    "#joblib.dump(lr, os.path.join(DATA_FOLDER, 'lr_trained_model'))"
   ]
  },
  {
   "cell_type": "markdown",
   "metadata": {},
   "source": [
    "LGB Model:"
   ]
  },
  {
   "cell_type": "code",
   "execution_count": 192,
   "metadata": {
    "ExecuteTime": {
     "end_time": "2019-12-13T13:25:21.243475Z",
     "start_time": "2019-12-13T13:25:21.239485Z"
    }
   },
   "outputs": [],
   "source": [
    "### skip this when using serialized models\n",
    "#model = lightgbm.train(lgb_params, lightgbm.Dataset(X, label=y), 100)\n",
    "#joblib.dump(model, os.path.join(DATA_FOLDER, 'lgb_trained_model'))"
   ]
  },
  {
   "cell_type": "markdown",
   "metadata": {},
   "source": [
    "Reordering our X_test dataframe according to the sample order:"
   ]
  },
  {
   "cell_type": "code",
   "execution_count": 224,
   "metadata": {
    "ExecuteTime": {
     "end_time": "2019-12-13T13:30:49.592679Z",
     "start_time": "2019-12-13T13:30:49.499837Z"
    }
   },
   "outputs": [],
   "source": [
    "test = pd.read_csv(os.path.join(DATA_FOLDER, 'test.csv.gz'))\n",
    "test.drop(columns='ID', inplace=True)"
   ]
  },
  {
   "cell_type": "code",
   "execution_count": 225,
   "metadata": {
    "ExecuteTime": {
     "end_time": "2019-12-13T13:30:49.723246Z",
     "start_time": "2019-12-13T13:30:49.594609Z"
    }
   },
   "outputs": [],
   "source": [
    "X_test_final = pd.merge(test, X_test, on=['shop_id', 'item_id'])"
   ]
  },
  {
   "cell_type": "markdown",
   "metadata": {},
   "source": [
    "Calculating the convex combination prediction:"
   ]
  },
  {
   "cell_type": "code",
   "execution_count": 226,
   "metadata": {
    "ExecuteTime": {
     "end_time": "2019-12-13T13:30:49.807990Z",
     "start_time": "2019-12-13T13:30:49.726206Z"
    }
   },
   "outputs": [],
   "source": [
    "y_test_predict_lr = lr.predict(X_test_final.fillna(0)).clip(0, 20)"
   ]
  },
  {
   "cell_type": "code",
   "execution_count": 227,
   "metadata": {
    "ExecuteTime": {
     "end_time": "2019-12-13T13:30:51.101127Z",
     "start_time": "2019-12-13T13:30:49.809981Z"
    }
   },
   "outputs": [],
   "source": [
    "y_test_predict_lgb = model.predict(X_test_final).clip(0, 20)"
   ]
  },
  {
   "cell_type": "code",
   "execution_count": 228,
   "metadata": {
    "ExecuteTime": {
     "end_time": "2019-12-13T13:30:51.109113Z",
     "start_time": "2019-12-13T13:30:51.102094Z"
    }
   },
   "outputs": [],
   "source": [
    "y_final_predict = best_alpha*y_test_predict_lr+(1-best_alpha)*y_test_predict_lgb"
   ]
  },
  {
   "cell_type": "markdown",
   "metadata": {},
   "source": [
    "Preparing submission:"
   ]
  },
  {
   "cell_type": "code",
   "execution_count": 162,
   "metadata": {
    "ExecuteTime": {
     "end_time": "2019-12-13T05:23:55.106072Z",
     "start_time": "2019-12-13T05:23:55.100057Z"
    }
   },
   "outputs": [],
   "source": [
    "submission = sample.copy()"
   ]
  },
  {
   "cell_type": "code",
   "execution_count": 163,
   "metadata": {
    "ExecuteTime": {
     "end_time": "2019-12-13T05:23:55.807167Z",
     "start_time": "2019-12-13T05:23:55.108035Z"
    }
   },
   "outputs": [],
   "source": [
    "submission['item_cnt_month'] = y_final_predict\n",
    "submission.to_csv('./data/predict-future-sales/submission.csv',\n",
    "                        index = False)"
   ]
  }
 ],
 "metadata": {
  "kernelspec": {
   "display_name": "Python [conda env:playground]",
   "language": "python",
   "name": "conda-env-playground-py"
  },
  "language_info": {
   "codemirror_mode": {
    "name": "ipython",
    "version": 3
   },
   "file_extension": ".py",
   "mimetype": "text/x-python",
   "name": "python",
   "nbconvert_exporter": "python",
   "pygments_lexer": "ipython3",
   "version": "3.7.3"
  },
  "toc": {
   "base_numbering": 1,
   "nav_menu": {},
   "number_sections": true,
   "sideBar": true,
   "skip_h1_title": false,
   "title_cell": "Table of Contents",
   "title_sidebar": "Contents",
   "toc_cell": false,
   "toc_position": {},
   "toc_section_display": true,
   "toc_window_display": true
  },
  "varInspector": {
   "cols": {
    "lenName": 16,
    "lenType": 16,
    "lenVar": 40
   },
   "kernels_config": {
    "python": {
     "delete_cmd_postfix": "",
     "delete_cmd_prefix": "del ",
     "library": "var_list.py",
     "varRefreshCmd": "print(var_dic_list())"
    },
    "r": {
     "delete_cmd_postfix": ") ",
     "delete_cmd_prefix": "rm(",
     "library": "var_list.r",
     "varRefreshCmd": "cat(var_dic_list()) "
    }
   },
   "types_to_exclude": [
    "module",
    "function",
    "builtin_function_or_method",
    "instance",
    "_Feature"
   ],
   "window_display": false
  }
 },
 "nbformat": 4,
 "nbformat_minor": 2
}
